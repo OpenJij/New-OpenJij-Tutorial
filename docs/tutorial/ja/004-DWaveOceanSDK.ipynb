{
 "cells": [
  {
   "cell_type": "markdown",
   "metadata": {},
   "source": [
    "# 4-D-Wave Ocean SDK 入門"
   ]
  },
  {
   "cell_type": "markdown",
   "metadata": {
    "colab_type": "text",
    "id": "view-in-github"
   },
   "source": [
    "[![Open in Colab](https://colab.research.google.com/assets/colab-badge.svg)](https://colab.research.google.com/github/OpenJij/OpenJijTutorial/blob/master/source/ja/004-DWaveOceanSDK.ipynb)"
   ]
  },
  {
   "cell_type": "markdown",
   "metadata": {
    "colab_type": "text",
    "id": "view-in-github"
   },
   "source": [
    "D-Wave Ocean SDK(以下、Ocean) は、D-Waveマシンを使用するソフトウェアがまとまっている開発キットです。Pythonから各種機能を簡単に利用することができます。\n",
    "\n",
    "Github: https://github.com/dwavesystems/dwave-ocean-sdk  \n",
    "Document: https://docs.ocean.dwavesys.com/en/latest/\n",
    "\n",
    "インストールするには上にある通り、pipを使用するかgithubのリポジトリをクローンします。"
   ]
  },
  {
   "cell_type": "code",
   "execution_count": null,
   "metadata": {},
   "outputs": [],
   "source": [
    "!pip install dwave-ocean-sdk"
   ]
  },
  {
   "cell_type": "code",
   "execution_count": null,
   "metadata": {},
   "outputs": [],
   "source": [
    "!git clone https://github.com/dwavesystems/dwave-ocean-sdk.git\n",
    "!cd dwave-ocean-sdk\n",
    "!python setup.py install"
   ]
  },
  {
   "cell_type": "markdown",
   "metadata": {},
   "source": [
    "以降では、数分割問題を通して以下の内容について説明していきます。\n",
    "\n",
    "- QUBOまたはイジングモデルの作り方\n",
    "- Oceanの使い方\n",
    "- アニーリングパラメータを変えた場合の最適化"
   ]
  },
  {
   "cell_type": "markdown",
   "metadata": {},
   "source": [
    "## 定式化\n",
    "\n",
    "D-Waveマシンに投げることができる形式にはイジングモデルとQUBOがあります。ここでは詳細には触れず、Oceanを使用する上で最低限必要なことを説明します。\n",
    "\n",
    "### QUBOとイジングモデル\n",
    "\n",
    "#### QUBO\n",
    "\n",
    "QUBOの場合、2値変数(バイナリ変数)$q_{i} \\in \\{0, 1\\}$に対して、以下のハミルトニアンを考えます。\n",
    "\n",
    "$$\n",
    "H\\left(\\left\\{q_{i}\\right\\}\\right)= \\sum_{i} Q_{i i} q_{i} + \\sum_{i>j} Q_{i j} q_{i} q_{j}\n",
    "$$\n",
    "\n",
    "QUBOを解く際には、上の式の$Q_{i i}$と$Q_{i j}$を古典コンピュータで計算し、D-Waveマシンに与えることになります。\n",
    "\n",
    "#### イジングモデル\n",
    "\n",
    "イジングモデルの場合、2値変数$\\sigma_{i} \\in \\{1, -1\\}$に対して、以下のハミルトニアンを考えます。\n",
    "\n",
    "$$\n",
    "H\\left(\\left\\{\\sigma_{i}\\right\\}\\right)=\\sum_{i} h_{i} \\sigma_{i} + \\sum_{i>j} J_{i j} \\sigma_{i} \\sigma_{j}\n",
    "$$\n",
    "\n",
    "イジングモデルを解く際には、上の式の$h_{i}$と$J_{i j}$を古典コンピュータで計算し、D-Waveマシンに与えることになります。\n",
    "\n",
    "#### 相互変換\n",
    "\n",
    "QUBOとイジングモデルは、$q_{i} = (\\sigma_{i} + 1) / 2$という変換式によって相互変換が可能です。  \n",
    "この点において、どちらでハミルトニアンを定式化しても問題はないので、対象の問題から考えやすい方を選びましょう。  \n",
    "ただし同じ問題の2種類の形式に対して、D-Waveマシンの振る舞いが異なる場合があるので注意が必要です。"
   ]
  },
  {
   "cell_type": "markdown",
   "metadata": {},
   "source": [
    "### 数分割問題\n",
    "\n",
    "与えられた整数の集合を、2つのグループに分けることを考えます。このとき、各グループの総和が同じになるように分ける問題を数分割問題といいます。  \n",
    "例として、以下の整数の集合$C$を2つのグループに分けることを目標にしてみましょう。"
   ]
  },
  {
   "cell_type": "code",
   "execution_count": 2,
   "metadata": {
    "ExecuteTime": {
     "end_time": "2019-04-15T12:30:57.465840Z",
     "start_time": "2019-04-15T12:30:57.462152Z"
    }
   },
   "outputs": [],
   "source": [
    "# 整数の集合を定義します。\n",
    "C = [2, 10, 3, 8, 5, 7, 9, 5, 3, 2]\n",
    "N = len(C)"
   ]
  },
  {
   "cell_type": "markdown",
   "metadata": {},
   "source": [
    "この場合、それぞれの総和の差がゼロになる最適解は23通り存在します(総和の差という名のエネルギーが同じ値ですが、解が違う状態が複数あります。このような状態を物理用語で「縮退している」と呼びます)。  \n",
    "例えば、$\\{2,5,3,10,7\\}, \\{2,5,3,9,8\\}$(総和はどちらも27)があります。"
   ]
  },
  {
   "cell_type": "markdown",
   "metadata": {},
   "source": [
    "#### QUBO\n",
    "\n",
    "2つのグループの総和の差を0にすることを目指して、定式化を行いましょう。\n",
    "\n",
    "<p style=\"text-align: center\">グループAに属する数字の総和 - グループBに属する数字の総和 = 0</p>\n",
    "\n",
    "そこで2値変数(バイナリ変数)$q_{i}$を用意し、$i$番目の数字がグループAに属する場合$q_{i} = 0$、グループBに属する場合$q_{i} = 1$と定義します。このときグループAに属する数字の総和は$\\sum_{i=1}^{N}c_{i}q_{i}$、グループBに属する数字の総和は$\\sum_{i=1}^{N}c_{i}(1 - q_{i})$と表されるので、先ほどの式は\n",
    "\n",
    "$$\\sum_{i=1}^{N} c_{i} q_{i}-\\sum_{i=1}^{N} c_{i}\\left(1-q_{i}\\right)=0$$\n",
    "\n",
    "となります。この等式が成り立つように問題を解きたいと考えるので、この式は`制約`を表していることがわかります。このような等式制約を素直に表現する場合には、罰金法が用いられます。\n",
    "\n",
    "> (罰金法) 最小化したいコスト(目的関数)を$f(x)$、制約条件を$g(x) = 0$とすると、ハイパーパラメータ$\\lambda$を用いて以下の項を追加して最適化問題を解くことを罰金法と呼びます。  \n",
    "> $$\\min_{x} \\left\\{ f(x) + \\lambda g(x)^2\\right\\}$$\n",
    "\n",
    "よって、数分割問題に対するQUBOは以下のようになります。\n",
    "\n",
    "$$\n",
    "H\\left(\\left\\{q_{i}\\right\\}\\right)=\\left(\\sum_{i=1}^{N} c_{i} q_{i}-\\sum_{i=1}^{N} c_{i}\\left(1-q_{i}\\right)\\right)^{2}\n",
    "$$\n",
    "\n",
    "D-Waveマシンに問題を投げるためには$Q_{i j}$の値を求める必要があります。そのために$H\\left(\\left\\{\\sigma_{i}\\right\\}\\right)$を展開し、整理をしましょう。\n",
    "\n",
    "$$\n",
    "H\\left(\\left\\{q_{i}\\right\\}\\right)=\\left(2\\sum_{i=1}^{N} c_{i} q_{i} - \\sum_{i=1}^{N} c_{i} \\right)^{2} =4 \\sum_{i=1}^{N} c_{i} \\left( c_{i} - \\sum_{j=1}^{N} c_{j}\\right) q_{i}+8 \\sum_{i=1}^{N} \\sum_{j=i+1}^{N} c_{i} c_{j} q_{i} q_{j}+\\left(\\sum_{i=1}^{N} c_{i}\\right)^{2}\n",
    "$$\n",
    "\n",
    "よって\n",
    "\n",
    "$$Q_{i i} = 4 c_{i} \\left( c_{i} - \\sum_{j=1}^{N} c_{j}\\right)$$\n",
    "$$Q_{i j} = 8 c_{i} c_{j}$$\n",
    "\n",
    "となります。\n",
    "\n",
    "> 一番最後の項は$\\{ q_i\\}$に依存しない定数であるため、ハミルトニアン$H (\\{ q_i\\})$を最小化する$\\{ q_i\\}$の組み合わせを探す上では無視しても問題ありません。"
   ]
  },
  {
   "cell_type": "code",
   "execution_count": 6,
   "metadata": {
    "ExecuteTime": {
     "end_time": "2019-04-15T12:30:57.472827Z",
     "start_time": "2019-04-15T12:30:57.469113Z"
    }
   },
   "outputs": [],
   "source": [
    "# 上で求めたQ_{ii}, Q_{ij}を{(i, j): Q_{ij}}のような辞書型で定義します。\n",
    "Q = {}\n",
    "for i in range(N):\n",
    "    Q[i, i] = 4 * C[i] * (C[i] - sum(C))\n",
    "    for j in range(i + 1, N):\n",
    "        Q[i, j] = 8 * C[i] * C[j]"
   ]
  },
  {
   "cell_type": "markdown",
   "metadata": {},
   "source": [
    "結合の度合いや係数比など対象の問題を理解するために、QUBOを可視化してみましょう。"
   ]
  },
  {
   "cell_type": "code",
   "execution_count": 7,
   "metadata": {
    "ExecuteTime": {
     "end_time": "2019-04-15T12:30:58.871404Z",
     "start_time": "2019-04-15T12:30:57.476381Z"
    }
   },
   "outputs": [],
   "source": [
    "import numpy as np\n",
    "import matplotlib.cm as cm\n",
    "import matplotlib.pyplot as plt\n",
    "%matplotlib inline"
   ]
  },
  {
   "cell_type": "code",
   "execution_count": 8,
   "metadata": {
    "ExecuteTime": {
     "end_time": "2019-04-15T12:30:58.881716Z",
     "start_time": "2019-04-15T12:30:58.873657Z"
    }
   },
   "outputs": [],
   "source": [
    "def show_qubo(qubo, cmap=cm.GnBu, save_path=None):\n",
    "    n_qubo = max(sorted(qubo.keys())[-1][0], sorted(qubo.keys(), key=lambda x: x[1])[-1][1]) + 1\n",
    "\n",
    "    np_qubo = np.zeros((n_qubo, n_qubo))\n",
    "    for (pos_x, pos_y), coeff in qubo.items():\n",
    "        np_qubo[pos_x][pos_y] = coeff\n",
    "\n",
    "    plt.imshow(np_qubo, cmap=cmap)\n",
    "    plt.colorbar()\n",
    "    if save_path is not None:\n",
    "        plt.savefig(save_path)\n",
    "    plt.show()"
   ]
  },
  {
   "cell_type": "code",
   "execution_count": 9,
   "metadata": {
    "ExecuteTime": {
     "end_time": "2019-04-15T12:30:59.101750Z",
     "start_time": "2019-04-15T12:30:58.885051Z"
    }
   },
   "outputs": [
    {
     "data": {
      "image/png": "[encoded data removed]",
      "text/plain": [
       "<Figure size 432x288 with 2 Axes>"
      ]
     },
     "metadata": {
      "needs_background": "light"
     },
     "output_type": "display_data"
    }
   ],
   "source": [
    "show_qubo(Q)"
   ]
  },
  {
   "cell_type": "markdown",
   "metadata": {},
   "source": [
    "対角成分が$Q_{i i}$、非対角成分が$Q_{i j}$です。定式化の時点から明らかですが、数分割問題は全ての量子ビット間に相互作用が存在する、全結合の問題であることが分かります。"
   ]
  },
  {
   "cell_type": "markdown",
   "metadata": {},
   "source": [
    "#### イジングモデル\n",
    "\n",
    "イジングモデルとQUBOの相互変換の式から、数分割問題をイジングモデルで表すと以下のような簡潔な式で表されます。\n",
    "\n",
    "$$\n",
    "H\\left(\\left\\{\\sigma_{i}\\right\\}\\right) = \\left(\\sum_{i} c_{i} \\sigma_{i}\\right)^2\n",
    "$$\n",
    "\n",
    "QUBOと同様に、D-Waveマシンに問題を投げるためには$h_{i}$と$J_{i j}$の値が必要です。$\\sigma_{i}^2 = 1$であることに注意して、$H\\left(\\left{\\sigma_{i}\\right\\}\\right)$を展開しましょう。\n",
    "\n",
    "$$\n",
    "H\\left(\\left\\{\\sigma_{i}\\right\\}\\right) = \\sum_{i} c_{i}^2 \\sigma_{i}^2 + 2 \\sum_{i < j} c_{i} c_{j} \\sigma_{i} \\sigma_{j} = \\sum_{i} c_{i}^2 + 2 \\sum_{i < j} c_{i} c_{j} \\sigma_{i} \\sigma_{j}\n",
    "$$\n",
    "\n",
    "よって\n",
    "\n",
    "$$h_{i} = 0$$\n",
    "\n",
    "$$J_{i j} = 2 c_{i} c_{j}$$\n",
    "\n",
    "となります。\n",
    "\n",
    "> QUBOでの議論と同様に、定数項は無視します。"
   ]
  },
  {
   "cell_type": "code",
   "execution_count": 10,
   "metadata": {
    "ExecuteTime": {
     "end_time": "2019-04-15T12:30:59.108701Z",
     "start_time": "2019-04-15T12:30:59.103910Z"
    }
   },
   "outputs": [],
   "source": [
    "# h_iとJ_ijを定義します。\n",
    "h = {}\n",
    "J = {}\n",
    "for i in range(N):\n",
    "    h[i] = 0\n",
    "    for j in range(i + 1, N):\n",
    "        J[i, j] = 2 * C[i] * C[j]"
   ]
  },
  {
   "cell_type": "markdown",
   "metadata": {},
   "source": [
    "ちなみに、Oceanの基本的なライブラリであるdimodの.BinaryQuadraticModel()を用いることで、イジングモデルとQUBOの相互変換が可能です。\n",
    "\n",
    "- .BinaryQuadraticModel(linear, quadratic, offset, vartype)\n",
    "    * linear: dict, h_i(もしくはQ_{ii})を辞書型で入れます。\n",
    "    * quadratic: dict, J_ij(もしくはQ_{ij})を辞書型で入れます。\n",
    "    * offset: number, 変換する際のエネルギーオフセットを指定します。\n",
    "    * vartype: インプットとして入れる変数がイジングモデルの場合は'SPIN'を、QUBOの場合は'BINARY'を指定します。"
   ]
  },
  {
   "cell_type": "code",
   "execution_count": 14,
   "metadata": {
    "ExecuteTime": {
     "end_time": "2019-04-15T12:30:59.185784Z",
     "start_time": "2019-04-15T12:30:59.111952Z"
    }
   },
   "outputs": [],
   "source": [
    "import dimod"
   ]
  },
  {
   "cell_type": "code",
   "execution_count": 15,
   "metadata": {
    "ExecuteTime": {
     "end_time": "2019-04-15T12:30:59.194658Z",
     "start_time": "2019-04-15T12:30:59.188913Z"
    },
    "scrolled": true
   },
   "outputs": [],
   "source": [
    "# イジングモデルからQUBOへの変換を行います。\n",
    "model = dimod.BinaryQuadraticModel(h, J, 0.0, vartype='SPIN')\n",
    "qubo, offset = model.to_qubo()"
   ]
  },
  {
   "cell_type": "code",
   "execution_count": 16,
   "metadata": {
    "ExecuteTime": {
     "end_time": "2019-04-15T12:30:59.337789Z",
     "start_time": "2019-04-15T12:30:59.197763Z"
    }
   },
   "outputs": [
    {
     "data": {
      "image/png": "[encoded data removed]",
      "text/plain": [
       "<Figure size 432x288 with 2 Axes>"
      ]
     },
     "metadata": {
      "needs_background": "light"
     },
     "output_type": "display_data"
    }
   ],
   "source": [
    "show_qubo(qubo)"
   ]
  },
  {
   "cell_type": "markdown",
   "metadata": {},
   "source": [
    "ここまで、$Q_{i i}, Q_{i j}$や$h_{i}, J_{i j}$といった係数行列を求めるために、構成したハミルトニアンを展開しました。しかし、より複雑なハミルトニアンを扱う場合には手計算がより複雑になり、計算ミスが生じる可能性があります。  \n",
    "そこで、(株)リクルートコミュニケーションズが開発しているドメイン固有言語**PyQUBO**を用いることで、ハミルトニアンを展開することなくQUBOやイジングモデルを作成する事ができます。PyQUBOの使い方については以下のドキュメントを参照ください。\n",
    "\n",
    "* Github: https://github.com/recruit-communications/pyqubo  \n",
    "* Document: https://pyqubo.readthedocs.io/en/latest/\n",
    "* OpenJijTutorial: https://github.com/OpenJij/OpenJijTutorial/blob/master/3-PyQUBO_2_OpenJij.ipynb  \n",
    "* Qiita: https://qiita.com/ynntech/items/fcfe7caf49f6a8eb3c53"
   ]
  },
  {
   "cell_type": "markdown",
   "metadata": {},
   "source": [
    "## D-Waveマシンによる最適化\n",
    "\n",
    "それでは上記の数分割問題を、D-Waveマシンを用いて最適化することを考えましょう。このチュートリアルでは、(1)単純に解く場合 (2)読み取り回数を変えた場合、 (3)アニーリング時間を変えた場合を見てみます。\n",
    "\n",
    "### イジングモデルを解く\n",
    "\n",
    "D-WaveマシンのサンプラーはDWaveSampler()、さらに問題をD-Waveマシンのキメラグラフに埋め込むためにEmbeddingComposite()を使用します。"
   ]
  },
  {
   "cell_type": "code",
   "execution_count": 90,
   "metadata": {
    "ExecuteTime": {
     "end_time": "2019-04-15T12:31:01.159068Z",
     "start_time": "2019-04-15T12:30:59.340179Z"
    }
   },
   "outputs": [],
   "source": [
    "from dwave.system.samplers import DWaveSampler\n",
    "from dwave.system.composites import EmbeddingComposite"
   ]
  },
  {
   "cell_type": "code",
   "execution_count": 91,
   "metadata": {
    "ExecuteTime": {
     "end_time": "2019-04-15T12:31:02.135118Z",
     "start_time": "2019-04-15T12:31:01.161905Z"
    }
   },
   "outputs": [],
   "source": [
    "# 接続情報をオプションとして渡す場合は以下のようにします。\n",
    "endpoint = 'https://cloud.dwavesys.com/sapi'\n",
    "token = '##########'\n",
    "solver = 'DW_2000Q_VFYC_5'\n",
    "\n",
    "# DWaveSamplerを用います。\n",
    "dw = DWaveSampler(endpoint=endpoint, token=token, solver=solver)\n",
    "# キメラグラフに埋め込みを行います。\n",
    "sampler = EmbeddingComposite(dw)"
   ]
  },
  {
   "cell_type": "code",
   "execution_count": 107,
   "metadata": {
    "ExecuteTime": {
     "end_time": "2019-04-15T12:31:03.906310Z",
     "start_time": "2019-04-15T12:31:02.137216Z"
    }
   },
   "outputs": [],
   "source": [
    "# イジングモデルの場合は以下を使用します。\n",
    "response = sampler.sample_ising(h, J, num_reads=100)\n",
    "\n",
    "# QUBOの場合は以下を使用します。\n",
    "# response = sampler.sample_qubo(Q, num_reads=100)"
   ]
  },
  {
   "cell_type": "markdown",
   "metadata": {},
   "source": [
    "得られた結果を確認してみましょう。解の状態、エネルギー、その状態の発生回数、D-Waveマシンのグラフにおいて壊れたチェーンの割合を.recordで見ることができます。"
   ]
  },
  {
   "cell_type": "code",
   "execution_count": 108,
   "metadata": {
    "ExecuteTime": {
     "end_time": "2019-04-15T12:31:03.913301Z",
     "start_time": "2019-04-15T12:31:03.908557Z"
    }
   },
   "outputs": [
    {
     "data": {
      "text/plain": [
       "rec.array([([ 1, -1,  1,  1,  1,  1, -1,  1,  1, -1], -226., 1, 0.8),\n",
       "           ([-1,  1, -1,  1,  1, -1,  1, -1,  1,  1],   30., 2, 0.8),\n",
       "           ([-1,  1, -1,  1, -1, -1,  1, -1,  1,  1], -270., 1, 0.8),\n",
       "           ([-1,  1, -1,  1, -1, -1,  1, -1,  1,  1], -270., 2, 0.8),\n",
       "           ([-1,  1, -1,  1,  1, -1,  1, -1, -1,  1], -174., 1, 0.8),\n",
       "           ([ 1, -1,  1, -1, -1,  1, -1,  1,  1, -1], -174., 1, 0.8),\n",
       "           ([-1,  1, -1,  1,  1, -1,  1, -1,  1,  1],   30., 2, 0.8),\n",
       "           ([ 1, -1,  1, -1, -1,  1, -1,  1,  1, -1], -174., 1, 0.8),\n",
       "           ([ 1, -1,  1, -1,  1,  1, -1,  1, -1, -1], -270., 1, 0.8),\n",
       "           ([ 1, -1,  1, -1, -1,  1, -1,  1,  1, -1], -174., 1, 0.8),\n",
       "           ([-1,  1,  1,  1, -1, -1,  1, -1,  1,  1], -114., 1, 0.8),\n",
       "           ([-1,  1,  1,  1,  1, -1,  1, -1, -1,  1],   30., 1, 0.8),\n",
       "           ([ 1, -1,  1, -1,  1,  1, -1,  1, -1, -1], -270., 1, 0.8),\n",
       "           ([-1,  1, -1,  1, -1, -1,  1, -1,  1,  1], -270., 2, 0.8),\n",
       "           ([-1,  1, -1,  1, -1, -1,  1, -1,  1,  1], -270., 2, 0.8),\n",
       "           ([ 1, -1,  1, -1, -1,  1, -1,  1,  1, -1], -174., 1, 0.8),\n",
       "           ([-1,  1,  1,  1, -1, -1,  1, -1,  1,  1], -114., 1, 0.8),\n",
       "           ([ 1, -1,  1,  1,  1,  1, -1,  1, -1, -1], -334., 1, 0.8),\n",
       "           ([-1,  1, -1,  1,  1, -1,  1, -1,  1,  1],   30., 1, 0.8),\n",
       "           ([ 1, -1,  1, -1,  1,  1, -1,  1, -1, -1], -270., 3, 0.8),\n",
       "           ([-1,  1,  1,  1, -1, -1,  1, -1,  1,  1], -114., 1, 0.8),\n",
       "           ([-1,  1, -1,  1,  1, -1,  1,  1, -1,  1],  206., 2, 0.8),\n",
       "           ([-1,  1,  1,  1, -1, -1,  1, -1,  1,  1], -114., 2, 0.8),\n",
       "           ([ 1, -1,  1,  1, -1,  1, -1,  1,  1, -1], -366., 1, 0.8),\n",
       "           ([ 1, -1,  1,  1, -1,  1, -1,  1,  1, -1], -366., 1, 0.8),\n",
       "           ([-1,  1,  1,  1,  1, -1,  1, -1, -1,  1],   30., 3, 0.8),\n",
       "           ([ 1, -1,  1, -1,  1,  1, -1,  1,  1, -1], -354., 1, 0.8),\n",
       "           ([-1,  1,  1,  1,  1, -1,  1, -1,  1,  1],  306., 1, 0.8),\n",
       "           ([-1,  1, -1,  1,  1, -1, -1, -1,  1,  1], -366., 1, 0.8),\n",
       "           ([-1,  1, -1,  1, -1, -1,  1,  1,  1,  1],   30., 3, 0.8),\n",
       "           ([-1,  1,  1,  1,  1, -1,  1, -1, -1,  1],   30., 1, 0.8),\n",
       "           ([ 1, -1,  1, -1,  1,  1,  1,  1, -1, -1], -306., 4, 0.8),\n",
       "           ([ 1, -1, -1, -1,  1,  1, -1,  1,  1, -1], -270., 1, 0.8),\n",
       "           ([ 1, -1,  1, -1, -1,  1,  1,  1,  1, -1], -354., 2, 0.8),\n",
       "           ([-1,  1, -1,  1,  1, -1,  1, -1,  1,  1],   30., 2, 0.8),\n",
       "           ([-1,  1,  1, -1,  1, -1,  1, -1,  1,  1], -270., 1, 0.8),\n",
       "           ([-1,  1, -1,  1,  1, -1, -1, -1,  1,  1], -366., 4, 0.8),\n",
       "           ([-1,  1,  1,  1,  1, -1,  1, -1, -1,  1],   30., 1, 0.8),\n",
       "           ([-1,  1,  1,  1, -1, -1,  1, -1,  1,  1], -114., 2, 0.8),\n",
       "           ([-1,  1,  1,  1, -1, -1,  1, -1,  1,  1], -114., 1, 0.8),\n",
       "           ([ 1, -1,  1, -1,  1,  1, -1,  1,  1, -1], -354., 1, 0.8),\n",
       "           ([ 1, -1,  1,  1,  1,  1, -1,  1, -1, -1], -334., 1, 0.8),\n",
       "           ([-1,  1,  1,  1,  1, -1,  1, -1, -1,  1],   30., 1, 0.8),\n",
       "           ([ 1, -1,  1, -1,  1,  1,  1,  1, -1, -1], -306., 1, 0.8),\n",
       "           ([-1,  1, -1,  1, -1, -1,  1,  1,  1,  1],   30., 1, 0.8),\n",
       "           ([ 1, -1,  1, -1,  1,  1, -1,  1,  1, -1], -354., 1, 0.8),\n",
       "           ([ 1, -1,  1, -1, -1,  1,  1,  1,  1, -1], -354., 1, 0.8),\n",
       "           ([-1,  1, -1,  1,  1, -1, -1, -1,  1,  1], -366., 1, 0.8),\n",
       "           ([ 1, -1,  1, -1,  1,  1,  1,  1, -1, -1], -306., 1, 0.8),\n",
       "           ([ 1, -1,  1,  1, -1,  1, -1,  1,  1, -1], -366., 2, 0.8),\n",
       "           ([-1,  1, -1, -1,  1, -1,  1, -1,  1,  1], -354., 1, 0.8),\n",
       "           ([-1,  1,  1, -1,  1, -1,  1, -1,  1,  1], -270., 2, 0.8),\n",
       "           ([-1,  1, -1,  1,  1, -1,  1, -1,  1,  1],   30., 1, 0.8),\n",
       "           ([ 1, -1, -1,  1, -1,  1, -1,  1,  1, -1], -354., 1, 1. ),\n",
       "           ([-1,  1,  1,  1,  1, -1,  1, -1,  1,  1],  306., 3, 1. ),\n",
       "           ([ 1, -1, -1,  1,  1,  1, -1,  1,  1, -1], -334., 1, 1. ),\n",
       "           ([ 1, -1,  1,  1, -1,  1, -1,  1,  1, -1], -366., 1, 1. ),\n",
       "           ([ 1, -1, -1, -1, -1,  1,  1,  1,  1, -1], -366., 1, 1. ),\n",
       "           ([ 1, -1, -1,  1,  1,  1, -1,  1, -1, -1], -370., 1, 1. ),\n",
       "           ([-1,  1,  1,  1, -1, -1, -1, -1,  1,  1], -366., 1, 1. ),\n",
       "           ([ 1, -1,  1, -1,  1,  1,  1, -1,  1, -1], -354., 2, 1. ),\n",
       "           ([ 1, -1,  1,  1,  1,  1, -1, -1,  1, -1], -366., 2, 1. ),\n",
       "           ([-1,  1,  1, -1,  1, -1,  1, -1,  1,  1], -270., 1, 1. ),\n",
       "           ([-1,  1,  1, -1, -1, -1,  1, -1,  1,  1], -370., 1, 1. ),\n",
       "           ([-1,  1,  1,  1,  1, -1, -1, -1,  1,  1], -306., 1, 1. ),\n",
       "           ([ 1, -1, -1,  1,  1,  1, -1,  1, -1, -1], -370., 1, 1. ),\n",
       "           ([-1,  1,  1,  1,  1, -1, -1, -1,  1,  1], -306., 1, 1. ),\n",
       "           ([-1,  1,  1,  1, -1, -1, -1, -1,  1,  1], -366., 1, 1. ),\n",
       "           ([-1,  1, -1,  1,  1, -1, -1,  1, -1,  1], -334., 1, 1. ),\n",
       "           ([-1,  1, -1,  1, -1, -1,  1,  1,  1,  1],   30., 1, 1. ),\n",
       "           ([ 1, -1, -1,  1,  1,  1, -1,  1,  1, -1], -334., 1, 1. ),\n",
       "           ([-1,  1,  1, -1,  1, -1,  1, -1,  1,  1], -270., 1, 1. )],\n",
       "          dtype=[('sample', 'i1', (10,)), ('energy', '<f8'), ('num_occurrences', '<i8'), ('chain_break_fraction', '<f8')])"
      ]
     },
     "execution_count": 108,
     "metadata": {},
     "output_type": "execute_result"
    }
   ],
   "source": [
    "response.record"
   ]
  },
  {
   "cell_type": "markdown",
   "metadata": {},
   "source": [
    "この中に最適解がどのくらい含まれているかを調べてみましょう。ここでは最適解かどうかを判別するために、それぞれの解のエネルギー値を求めます。"
   ]
  },
  {
   "cell_type": "code",
   "execution_count": 109,
   "metadata": {
    "ExecuteTime": {
     "end_time": "2019-04-15T12:31:03.922283Z",
     "start_time": "2019-04-15T12:31:03.916047Z"
    }
   },
   "outputs": [],
   "source": [
    "def calcurate_energy(solution, vartype='BINARY'):\n",
    "    if vartype == 'BINARY':\n",
    "        ene = sum(C) ** 2  # offset\n",
    "        for i in range(N):\n",
    "            ene += Q[i, i] * solution[i]\n",
    "            for j in range(i + 1, N):\n",
    "                ene += Q[i, j] * solution[i] * solution[j]\n",
    "    elif vartype == 'SPIN':\n",
    "        ene = sum(C[i] ** 2 for i in range(N))\n",
    "        for i in range(N):\n",
    "            for j in range(i + 1, N):\n",
    "                ene += J[i, j] * solution[i] * solution[j]\n",
    "    else:\n",
    "        raise ValueError(\"vartype mast be 'BINARY' or 'SPIN'.\")\n",
    "\n",
    "    return ene"
   ]
  },
  {
   "cell_type": "code",
   "execution_count": 110,
   "metadata": {},
   "outputs": [],
   "source": [
    "# 最適解が出た回数を数え上げます。\n",
    "num_optimal_sol = 0\n",
    "optimal_sol = []\n",
    "twenty_sol = []\n",
    "for state in response.record:\n",
    "    # .recordの0番目が状態のリスト、2番目がその状態の出現回数です。\n",
    "    solution = state[0]\n",
    "    num_oc = state[2]\n",
    "    # エネルギーを計算します。\n",
    "    energy = calcurate_energy(solution, vartype='SPIN')\n",
    "    # エネルギー(総和の差)が0のときを数え上げます。\n",
    "    if energy == 0.0:\n",
    "        num_optimal_sol += num_oc\n",
    "        optimal_sol.append(solution)\n",
    "    # 20 µsの結果を保存しておきます(あとで使用します)。\n",
    "    twenty_sol.append(solution)"
   ]
  },
  {
   "cell_type": "code",
   "execution_count": 111,
   "metadata": {
    "ExecuteTime": {
     "end_time": "2019-04-15T12:31:03.948076Z",
     "start_time": "2019-04-15T12:31:03.944016Z"
    }
   },
   "outputs": [
    {
     "data": {
      "text/plain": [
       "3"
      ]
     },
     "execution_count": 111,
     "metadata": {},
     "output_type": "execute_result"
    }
   ],
   "source": [
    "num_optimal_sol"
   ]
  },
  {
   "cell_type": "markdown",
   "metadata": {},
   "source": [
    "最適解が重複を含めて3個得られました。2つのグループは以下のようになっています。"
   ]
  },
  {
   "cell_type": "code",
   "execution_count": 113,
   "metadata": {},
   "outputs": [
    {
     "name": "stdout",
     "output_type": "stream",
     "text": [
      "[ 1 -1 -1  1  1  1 -1  1 -1 -1]\n",
      "Group A:  [2, 8, 5, 7, 5] , Sum =  27\n",
      "Group B:  [10, 3, 9, 3, 2] , Sum =  27\n",
      "[-1  1  1 -1 -1 -1  1 -1  1  1]\n",
      "Group A:  [10, 3, 9, 3, 2] , Sum =  27\n",
      "Group B:  [2, 8, 5, 7, 5] , Sum =  27\n",
      "[ 1 -1 -1  1  1  1 -1  1 -1 -1]\n",
      "Group A:  [2, 8, 5, 7, 5] , Sum =  27\n",
      "Group B:  [10, 3, 9, 3, 2] , Sum =  27\n"
     ]
    }
   ],
   "source": [
    "for solution in optimal_sol:\n",
    "    group_A = [C[i] for i, s in enumerate(solution) if s==1]\n",
    "    group_B = [C[i] for i, s in enumerate(solution) if s==-1]\n",
    "    print(solution)\n",
    "    print('Group A: ', group_A, ', Sum = ', sum(group_A))\n",
    "    print('Group B: ', group_B, ', Sum = ', sum(group_B))"
   ]
  },
  {
   "cell_type": "markdown",
   "metadata": {},
   "source": [
    "2つのグループの総和がいずれも等しい、最適解を得ることができました。  \n",
    "また、D-Waveマシンから返される結果には、解以外にも様々な情報が含まれています。詳細は[SampleSet](https://docs.ocean.dwavesys.com/projects/dimod/en/latest/reference/sampleset.html#dimod.SampleSet)のドキュメントを参照してください。\n",
    "\n",
    "`data_vectors`ではエネルギー、状態の出現回数、D-Waveマシンのグラフにおいて壊れたチェーンの割合のみをリストで確認することができます。"
   ]
  },
  {
   "cell_type": "code",
   "execution_count": 114,
   "metadata": {
    "ExecuteTime": {
     "end_time": "2019-04-15T12:31:03.970593Z",
     "start_time": "2019-04-15T12:31:03.961694Z"
    }
   },
   "outputs": [
    {
     "data": {
      "text/plain": [
       "{'energy': array([-226.,   30., -270., -270., -174., -174.,   30., -174., -270.,\n",
       "        -174., -114.,   30., -270., -270., -270., -174., -114., -334.,\n",
       "          30., -270., -114.,  206., -114., -366., -366.,   30., -354.,\n",
       "         306., -366.,   30.,   30., -306., -270., -354.,   30., -270.,\n",
       "        -366.,   30., -114., -114., -354., -334.,   30., -306.,   30.,\n",
       "        -354., -354., -366., -306., -366., -354., -270.,   30., -354.,\n",
       "         306., -334., -366., -366., -370., -366., -354., -366., -270.,\n",
       "        -370., -306., -370., -306., -366., -334.,   30., -334., -270.]),\n",
       " 'num_occurrences': array([1, 2, 1, 2, 1, 1, 2, 1, 1, 1, 1, 1, 1, 2, 2, 1, 1, 1, 1, 3, 1, 2,\n",
       "        2, 1, 1, 3, 1, 1, 1, 3, 1, 4, 1, 2, 2, 1, 4, 1, 2, 1, 1, 1, 1, 1,\n",
       "        1, 1, 1, 1, 1, 2, 1, 2, 1, 1, 3, 1, 1, 1, 1, 1, 2, 2, 1, 1, 1, 1,\n",
       "        1, 1, 1, 1, 1, 1]),\n",
       " 'chain_break_fraction': array([0.8, 0.8, 0.8, 0.8, 0.8, 0.8, 0.8, 0.8, 0.8, 0.8, 0.8, 0.8, 0.8,\n",
       "        0.8, 0.8, 0.8, 0.8, 0.8, 0.8, 0.8, 0.8, 0.8, 0.8, 0.8, 0.8, 0.8,\n",
       "        0.8, 0.8, 0.8, 0.8, 0.8, 0.8, 0.8, 0.8, 0.8, 0.8, 0.8, 0.8, 0.8,\n",
       "        0.8, 0.8, 0.8, 0.8, 0.8, 0.8, 0.8, 0.8, 0.8, 0.8, 0.8, 0.8, 0.8,\n",
       "        0.8, 1. , 1. , 1. , 1. , 1. , 1. , 1. , 1. , 1. , 1. , 1. , 1. ,\n",
       "        1. , 1. , 1. , 1. , 1. , 1. , 1. ])}"
      ]
     },
     "execution_count": 114,
     "metadata": {},
     "output_type": "execute_result"
    }
   ],
   "source": [
    "response.data_vectors"
   ]
  },
  {
   "cell_type": "markdown",
   "metadata": {},
   "source": [
    "`info`では実行時のQPU(Quantum Processing Unit)に関する情報の一覧を確認することができます。"
   ]
  },
  {
   "cell_type": "code",
   "execution_count": 115,
   "metadata": {
    "ExecuteTime": {
     "end_time": "2019-04-15T12:31:03.978576Z",
     "start_time": "2019-04-15T12:31:03.973416Z"
    }
   },
   "outputs": [
    {
     "data": {
      "text/plain": [
       "{'timing': {'qpu_sampling_time': 31496,\n",
       "  'qpu_anneal_time_per_sample': 20,\n",
       "  'qpu_readout_time_per_sample': 274,\n",
       "  'qpu_access_time': 40886,\n",
       "  'qpu_access_overhead_time': 2407,\n",
       "  'qpu_programming_time': 9390,\n",
       "  'qpu_delay_time_per_sample': 21,\n",
       "  'total_post_processing_time': 1355,\n",
       "  'post_processing_overhead_time': 1355,\n",
       "  'total_real_time': 40886,\n",
       "  'run_time_chip': 31496,\n",
       "  'anneal_time_per_run': 20,\n",
       "  'readout_time_per_run': 274},\n",
       " 'problem_id': '7a565c51-5378-430b-a5d3-c957cf832d02'}"
      ]
     },
     "execution_count": 115,
     "metadata": {},
     "output_type": "execute_result"
    }
   ],
   "source": [
    "response.info"
   ]
  },
  {
   "cell_type": "markdown",
   "metadata": {},
   "source": [
    "### 読み取り回数を変えてみる\n",
    "\n",
    "次に、読み取り回数を変えた場合に得られる解がどのように変わるかを見てみましょう。  \n",
    "sample_ising()またはsample_qubo()の`num_reads`に値を設定することで、読み取り回数を指定できます。  \n",
    "num_readsのデフォルト値は1です。先ほどは100回でしたので、今度は1000回で実行してみましょう。"
   ]
  },
  {
   "cell_type": "code",
   "execution_count": 122,
   "metadata": {
    "ExecuteTime": {
     "end_time": "2019-04-15T12:31:05.895143Z",
     "start_time": "2019-04-15T12:31:03.981543Z"
    }
   },
   "outputs": [],
   "source": [
    "# イジングモデルの場合は以下を用います。\n",
    "response = sampler.sample_ising(h, J, num_reads=1000)\n",
    "\n",
    "# QUBOの場合は以下を用います。\n",
    "# response = sampler.sample_qubo(Q, num_reads=1000)"
   ]
  },
  {
   "cell_type": "code",
   "execution_count": 123,
   "metadata": {
    "ExecuteTime": {
     "end_time": "2019-04-15T12:31:06.099249Z",
     "start_time": "2019-04-15T12:31:06.094114Z"
    }
   },
   "outputs": [],
   "source": [
    "# 最適解が出た回数を数え上げます。\n",
    "num_optimal_sol = 0\n",
    "optimal_sol = []\n",
    "for state in response.record:\n",
    "    # .recordの0番目が状態のリスト、2番目がその状態の出現回数です。\n",
    "    solution = state[0]\n",
    "    num_oc = state[2]\n",
    "    # エネルギーを計算します。\n",
    "    energy = calcurate_energy(solution, vartype='SPIN')\n",
    "    # エネルギー(総和の差)が0のときを数え上げます。\n",
    "    if energy == 0.0:\n",
    "        num_optimal_sol += num_oc\n",
    "        optimal_sol.append(solution)"
   ]
  },
  {
   "cell_type": "code",
   "execution_count": 124,
   "metadata": {},
   "outputs": [
    {
     "data": {
      "text/plain": [
       "77"
      ]
     },
     "execution_count": 124,
     "metadata": {},
     "output_type": "execute_result"
    }
   ],
   "source": [
    "num_optimal_sol"
   ]
  },
  {
   "cell_type": "markdown",
   "metadata": {},
   "source": [
    "読み取り回数を増やすことで、得られた最適解の個数が増加しました。一方で、アニーリング時間(1回のアニーリングに要する時間)が20$\\mu s$ (デフォルト値)と短いため、読み取り回数を増加させても実時間はそれほど差はありません。"
   ]
  },
  {
   "cell_type": "code",
   "execution_count": 125,
   "metadata": {
    "ExecuteTime": {
     "end_time": "2019-04-15T12:31:06.107619Z",
     "start_time": "2019-04-15T12:31:06.101804Z"
    }
   },
   "outputs": [
    {
     "data": {
      "text/plain": [
       "{'timing': {'qpu_sampling_time': 314960,\n",
       "  'qpu_anneal_time_per_sample': 20,\n",
       "  'qpu_readout_time_per_sample': 274,\n",
       "  'qpu_access_time': 324337,\n",
       "  'qpu_access_overhead_time': 1875,\n",
       "  'qpu_programming_time': 9377,\n",
       "  'qpu_delay_time_per_sample': 21,\n",
       "  'total_post_processing_time': 18907,\n",
       "  'post_processing_overhead_time': 18907,\n",
       "  'total_real_time': 324337,\n",
       "  'run_time_chip': 314960,\n",
       "  'anneal_time_per_run': 20,\n",
       "  'readout_time_per_run': 274},\n",
       " 'problem_id': 'ac673401-ba8e-4a86-a7ef-b9037f882250'}"
      ]
     },
     "execution_count": 125,
     "metadata": {},
     "output_type": "execute_result"
    }
   ],
   "source": [
    "response.info"
   ]
  },
  {
   "cell_type": "markdown",
   "metadata": {},
   "source": [
    "### アニーリング時間を変えてみる\n",
    "\n",
    "最後に、アニーリング時間を変えた場合に得られる解がどのように変わるかを見てみましょう。\n",
    "sample_ising()またはsample_qubo()の`annealing_time`に値を設定することで、アニーリング時間を指定できます(単位は$\\mu s$)。先ほどはデフォルト値の20$\\mu s$で実行しました。今度は50$\\mu s$でアニーリングを行なってみましょう。"
   ]
  },
  {
   "cell_type": "code",
   "execution_count": 126,
   "metadata": {
    "ExecuteTime": {
     "end_time": "2019-04-15T12:31:07.588543Z",
     "start_time": "2019-04-15T12:31:06.110248Z"
    }
   },
   "outputs": [],
   "source": [
    "# イジングモデルの場合は以下を用います。\n",
    "response = sampler.sample_ising(h, J, num_reads=100, annealing_time=50)\n",
    "\n",
    "# QUBOの場合は以下を用います。\n",
    "# response = sampler.sample_qubo(Q, num_reads=100, annealing_time=50)"
   ]
  },
  {
   "cell_type": "code",
   "execution_count": 127,
   "metadata": {},
   "outputs": [],
   "source": [
    "# 最適解が出た回数を数え上げます。\n",
    "num_optimal_sol = 0\n",
    "optimal_sol = []\n",
    "fifty_sol = []\n",
    "for state in response.record:\n",
    "    # .recordの0番目が状態のリスト、2番目がその状態の出現回数です。\n",
    "    solution = state[0]\n",
    "    num_oc = state[2]\n",
    "    # エネルギーを計算します。\n",
    "    energy = calcurate_energy(solution, vartype='SPIN')\n",
    "    # エネルギー(総和の差)が0のときを数え上げます。\n",
    "    if energy == 0.0:\n",
    "        num_optimal_sol += num_oc\n",
    "        optimal_sol.append(solution)\n",
    "    # 50µsでの実行結果を保存します。\n",
    "    fifty_sol.append(solution)"
   ]
  },
  {
   "cell_type": "code",
   "execution_count": 128,
   "metadata": {
    "ExecuteTime": {
     "end_time": "2019-04-15T12:31:07.627347Z",
     "start_time": "2019-04-15T12:31:07.622746Z"
    }
   },
   "outputs": [
    {
     "data": {
      "text/plain": [
       "6"
      ]
     },
     "execution_count": 128,
     "metadata": {},
     "output_type": "execute_result"
    }
   ],
   "source": [
    "num_optimal_sol"
   ]
  },
  {
   "cell_type": "markdown",
   "metadata": {},
   "source": [
    "最適解の回数が劇的に増えたようには見えません。そこでアニーリング時間を変えたことで、得られた解に何か違いがないか調べてみます。ここでは、解のエネルギーのヒストグラムを見てみましょう。"
   ]
  },
  {
   "cell_type": "code",
   "execution_count": 129,
   "metadata": {
    "ExecuteTime": {
     "end_time": "2019-04-15T12:46:43.665208Z",
     "start_time": "2019-04-15T12:46:43.454787Z"
    }
   },
   "outputs": [
    {
     "data": {
      "image/png": "[encoded data removed]",
      "text/plain": [
       "<Figure size 432x288 with 1 Axes>"
      ]
     },
     "metadata": {
      "needs_background": "light"
     },
     "output_type": "display_data"
    }
   ],
   "source": [
    "plt.hist([calcurate_energy(solution, vartype='SPIN') for solution in twenty_sol], alpha=0.5, label='20μs')\n",
    "plt.hist([calcurate_energy(solution, vartype='SPIN') for solution in fifty_sol], alpha=0.5, label='50μs')\n",
    "plt.xlabel('Energy')\n",
    "plt.ylabel('Frequency')\n",
    "plt.legend()\n",
    "plt.show()"
   ]
  },
  {
   "cell_type": "markdown",
   "metadata": {
    "ExecuteTime": {
     "end_time": "2019-04-15T12:42:17.112182Z",
     "start_time": "2019-04-15T12:42:17.104935Z"
    }
   },
   "source": [
    "上のヒストグラムから、アニーリング時間を増加させたことで得られた最適解の個数は減少しましたが、低いエネルギーの解を多く見つけていることが分かります。ただし、アニーリング時間を大きくすればいいという単純な話ではありません。アニーリング時間が小さい場合の方が最適化がうまくいくこともあり、その依存関係はそれぞれの問題に依ります。  \n",
    "また、量子アニーリングをはじめとするアニーリング法はメタヒューリスティックスなアルゴリズムであるため、実行するたびに得られる結果は異なる点にも注意しましょう。"
   ]
  },
  {
   "cell_type": "markdown",
   "metadata": {},
   "source": [
    "## 結言\n",
    "\n",
    "数分割問題の最適化を通して、D-Wave Oceanの使い方を紹介しました。このチュートリアルで説明したことを押さえるだけでも、様々なことができるようになります。例えば、以下のことを調べられるでしょう。\n",
    "\n",
    "- 読み取り回数、アニーリングタイムに対する成功確率(最適解が得られる割合)\n",
    "- 読み取り回数、アニーリングタイムに対するエネルギー値\n",
    "- 複数の最適解が存在する数分割問題に対して、得られる最適解の割合\n",
    "\n",
    "2019年4月現在、1ヶ月1分間無料でD-Waveマシンを利用することができます。ぜひ利用して、上の項目について実験してみてください。\n",
    "\n",
    "D-Wave Leap: https://cloud.dwavesys.com/leap/\n",
    "\n",
    "このチュートリアルでは触れることができませんでしたが、他にもアニーリングパラメータが存在します。例えば、アニーリングのスケジュールを指定することで、リバースアニーリングなど通常のアニーリングとは異なる手法を実行することができます。気になった方は、D-Waveのドキュメントを読んでみてください。"
   ]
  },
  {
   "cell_type": "code",
   "execution_count": null,
   "metadata": {},
   "outputs": [],
   "source": []
  }
 ],
 "metadata": {
  "_draft": {
   "nbviewer_url": "https://gist.github.com/c98df8dc4fdf3cf70537f9a4e82ccbda"
  },
  "gist": {
   "data": {
    "description": "4-DWaveOceanSDK.ipynb",
    "public": false
   },
   "id": "c98df8dc4fdf3cf70537f9a4e82ccbda"
  },
  "kernelspec": {
   "display_name": "Python 3",
   "language": "python",
   "name": "python3"
  },
  "language_info": {
   "codemirror_mode": {
    "name": "ipython",
    "version": 3
   },
   "file_extension": ".py",
   "mimetype": "text/x-python",
   "name": "python",
   "nbconvert_exporter": "python",
   "pygments_lexer": "ipython3",
   "version": "3.9.3"
  },
  "latex_envs": {
   "LaTeX_envs_menu_present": true,
   "autoclose": false,
   "autocomplete": true,
   "bibliofile": "biblio.bib",
   "cite_by": "apalike",
   "current_citInitial": 1,
   "eqLabelWithNumbers": true,
   "eqNumInitial": 1,
   "hotkeys": {
    "equation": "Ctrl-E",
    "itemize": "Ctrl-I"
   },
   "labels_anchors": false,
   "latex_user_defs": false,
   "report_style_numbering": false,
   "user_envs_cfg": false
  },
  "toc": {
   "base_numbering": 1,
   "nav_menu": {},
   "number_sections": true,
   "sideBar": true,
   "skip_h1_title": false,
   "title_cell": "Table of Contents",
   "title_sidebar": "Contents",
   "toc_cell": false,
   "toc_position": {
    "height": "calc(100% - 180px)",
    "left": "10px",
    "top": "150px",
    "width": "288px"
   },
   "toc_section_display": true,
   "toc_window_display": true
  }
 },
 "nbformat": 4,
 "nbformat_minor": 2
}
