{
 "cells": [
  {
   "cell_type": "markdown",
   "metadata": {},
   "source": [
    "# 3-PyQUBO with OpenJij"
   ]
  },
  {
   "cell_type": "markdown",
   "metadata": {
    "colab_type": "text",
    "id": "view-in-github"
   },
   "source": [
    "[![Open in Colab](https://colab.research.google.com/assets/colab-badge.svg)](https://colab.research.google.com/github/OpenJij/OpenJijTutorial/blob/master/source/ja/003-PyQUBO_2_OpenJij.ipynb)"
   ]
  },
  {
   "cell_type": "markdown",
   "metadata": {
    "colab_type": "text",
    "id": "view-in-github"
   },
   "source": [
    "ここでは，PyQUBOによるコスト関数のQUBOへの変換方法とSimulated Annealing、そしてOpenJijへの変数受け渡しなどについてクリーク被覆問題を例にご紹介いたします。"
   ]
  },
  {
   "cell_type": "markdown",
   "metadata": {},
   "source": [
    "pipを用いて`pyqubo`をインストールしましょう。  "
   ]
  },
  {
   "cell_type": "code",
   "execution_count": null,
   "metadata": {},
   "outputs": [],
   "source": [
    "!pip install pyqubo"
   ]
  },
  {
   "cell_type": "markdown",
   "metadata": {},
   "source": [
    "## PyQUBO を使った QUBOの定式化\n",
    "\n",
    "`PyQUBO`は、直感的にQUBOやIsing modelを定式化するライブラリです。  \n",
    "これまでの章ではPyQUBOを用いない場合をご紹介してきました。そこではQUBOなどを定式化したのち、自分で式を展開してpythonのコードに落とし込んでいました。しかしPyQUBOを用いることで、その手間をなくすことができます。PyQUBOはQUBO化, Ising model化を施すときの計算ミスや実装ミスを減らすことができる便利なライブラリです。\n",
    "\n",
    "今回はクリーク被覆問題を例にしてPyQUBOを使ってみます。\n",
    "\n",
    "クリーク被覆問題に関しては、[こちら (T-Wave:クリーク被覆問題)](https://qard.is.tohoku.ac.jp/T-Wave/?p=434) が参考になります。"
   ]
  },
  {
   "cell_type": "markdown",
   "metadata": {},
   "source": [
    "クリーク被覆問題のQUBO表現による定式化を紹介します。\n",
    "グラフ $G=(V, E)$を$n$個のクリークで被覆できるかという問題です。\n",
    "QUBO表現は以下のようになります([ここ:T-Wave](https://qard.is.tohoku.ac.jp/T-Wave/?p=434) と同じ記法を用います)。\n",
    "\n",
    "$$H = A\\sum_v \\left(1-\\sum^n_{i=1} x_{v, i}\\right)^2 \n",
    "+ B \\sum^n_{i=1}\\left[\n",
    "\\frac{1}{2}\\left(-1+\\sum_{v \\in V} x_{v,i}\\right)\\sum_{v \\in V} x_{v, i} \n",
    "- \\sum_{(u, v)\\in E} x_{u,i} x_{v, i}\\right]$$\n",
    "\n",
    "\n",
    "第一項は各頂点に1色だけ塗るという制約項です。第二項は分割した部分グラフがどれだけクリーク(完全グラフ)に近いかを示しています。どちらの項も0にならなければいけませんが、ここでは第一項をペナルティ項、第二項をコスト(目的関数)として扱うことにします。  \n",
    "このQUBOをPyQUBOを使って表現してみましょう。"
   ]
  },
  {
   "cell_type": "markdown",
   "metadata": {},
   "source": [
    "今回はグラフとクリークの数$n$を以下のように与えます。"
   ]
  },
  {
   "cell_type": "code",
   "execution_count": 1,
   "metadata": {},
   "outputs": [],
   "source": [
    "# 頂点の数を定義します。\n",
    "N_VER = 8\n",
    "# 色の数を定義します。\n",
    "N_COLOR = 4\n",
    "# グラフを定義します。0~7の頂点があったときにどの頂点同士が線で結ばれているかを定義しています。\n",
    "graph = [(0,1), (0,2), (1,2), (5,6), (2,3), (2,5), (3,4), (5,7), (7, 6)]"
   ]
  },
  {
   "cell_type": "markdown",
   "metadata": {},
   "source": [
    "### PyQUBOによる定式化\n",
    "\n",
    "PyQUBOから必要となるクラスをimport しておきます。"
   ]
  },
  {
   "cell_type": "code",
   "execution_count": 2,
   "metadata": {},
   "outputs": [],
   "source": [
    "from pyqubo import Array, Constraint, solve_qubo"
   ]
  },
  {
   "cell_type": "markdown",
   "metadata": {},
   "source": [
    "最初にQUBOを表現する変数を用意しましょう。Arrayを使って変数列を作ります。\n",
    "今回は(頂点の数)×(色の数)だけ変数が必要です。その分を`shape`を用いて準備します。"
   ]
  },
  {
   "cell_type": "code",
   "execution_count": 3,
   "metadata": {},
   "outputs": [],
   "source": [
    "x = Array.create('x', shape=(N_VER,N_COLOR), vartype='BINARY')"
   ]
  },
  {
   "cell_type": "markdown",
   "metadata": {},
   "source": [
    "これで(N_VER)行(N_COLOR)列のバイナリ変数'x'の作成ができました。  \n",
    "次にQUBOを作ります。比較的数式通りに記述することができます。"
   ]
  },
  {
   "cell_type": "code",
   "execution_count": 4,
   "metadata": {},
   "outputs": [],
   "source": [
    "# 第一項 (制約項)を定義します。\n",
    "H_A = Constraint(sum((1-sum(x[v,i] for i in range(1,N_COLOR)))**2 for v in range(N_VER)), label='HA')\n",
    "# 第二項 (コスト、目的関数)を定義します。\n",
    "H_B = sum((-1+sum(x[v,i] for v in range (N_VER)))/2*(sum(x[v,i] for v in range (N_VER))) - sum(x[u,i]*x[v,i] for (u,v) in graph) for i in range (1,N_COLOR))\n",
    "# ハミルトニアン全体を定義します。\n",
    "Q = H_A+H_B"
   ]
  },
  {
   "cell_type": "markdown",
   "metadata": {},
   "source": [
    "第一項でPyQUBOの`Constraint`関数を用いることで、「この項は制約項である」とスクリプトに認識させることができます。  \n",
    "作成したコスト関数は，以下のように`Q.compile().to_qubo()` で簡単にQUBO(Pythonの辞書型)に変換することができます。  \n",
    "OpenJijやD-Wave Oceanでは、QUBOはPythonの辞書型で表現されることが前提になっています。`.compile`すればあとはそのまま各ソルバーに投げることが可能です。"
   ]
  },
  {
   "cell_type": "code",
   "execution_count": 5,
   "metadata": {},
   "outputs": [],
   "source": [
    "# モデルをコンパイルします。\n",
    "model = Q.compile()\n",
    "qubo, offset = model.to_qubo()"
   ]
  },
  {
   "cell_type": "markdown",
   "metadata": {},
   "source": [
    "`qubo`にはPythonの辞書型で格納されたQUBOが、そして`offset`にはQUBO化した際に現れる定数(無視してよい)が代入されます。\n",
    "\n",
    "PyQUBOに備わっていたSimulated Annealingソルバーの`solve_qubo`は使用が非推奨となりました。ここではD-Wave Ocean SDKのnealというライブラリを直接呼び出して実行しましょう。"
   ]
  },
  {
   "cell_type": "code",
   "execution_count": 6,
   "metadata": {},
   "outputs": [
    {
     "name": "stdout",
     "output_type": "stream",
     "text": [
      "  x[0][1] x[0][2] x[0][3] x[1][1] x[1][2] x[1][3] ... x[7][3] energy num_oc.\n",
      "0       0       1       0       0       1       0 ...       0   -8.0       1\n",
      "['BINARY', 1 rows, 1 samples, 24 variables]\n"
     ]
    }
   ],
   "source": [
    "# nealのSAを用いて解きます。\n",
    "import neal\n",
    "sampler = neal.SimulatedAnnealingSampler()\n",
    "raw_solution = sampler.sample_qubo(qubo)\n",
    "print(raw_solution)"
   ]
  },
  {
   "cell_type": "markdown",
   "metadata": {},
   "source": [
    "得られた解の中で一番低いエネルギーの状態を抽出します。"
   ]
  },
  {
   "cell_type": "code",
   "execution_count": 7,
   "metadata": {},
   "outputs": [
    {
     "data": {
      "text/plain": [
       "{'x[0][1]': 0,\n",
       " 'x[0][2]': 1,\n",
       " 'x[0][3]': 0,\n",
       " 'x[1][1]': 0,\n",
       " 'x[1][2]': 1,\n",
       " 'x[1][3]': 0,\n",
       " 'x[2][1]': 0,\n",
       " 'x[2][2]': 1,\n",
       " 'x[2][3]': 0,\n",
       " 'x[3][1]': 0,\n",
       " 'x[3][2]': 0,\n",
       " 'x[3][3]': 1,\n",
       " 'x[4][1]': 0,\n",
       " 'x[4][2]': 0,\n",
       " 'x[4][3]': 1,\n",
       " 'x[5][1]': 1,\n",
       " 'x[5][2]': 0,\n",
       " 'x[5][3]': 0,\n",
       " 'x[6][1]': 1,\n",
       " 'x[6][2]': 0,\n",
       " 'x[6][3]': 0,\n",
       " 'x[7][1]': 1,\n",
       " 'x[7][2]': 0,\n",
       " 'x[7][3]': 0}"
      ]
     },
     "execution_count": 7,
     "metadata": {},
     "output_type": "execute_result"
    }
   ],
   "source": [
    "raw_solution.first.sample"
   ]
  },
  {
   "cell_type": "markdown",
   "metadata": {},
   "source": [
    "得られた解を見てみると、'x[0][0]': 1のように文字列をキーにした辞書型で格納されていることがわかります。このままだと、今後の解析がしづらいです。PyQUBOにはそれを扱いやすい形に直すデコード機能`.decode_sample()`があります。"
   ]
  },
  {
   "cell_type": "code",
   "execution_count": 8,
   "metadata": {},
   "outputs": [
    {
     "data": {
      "text/plain": [
       "{0: {1: 0, 2: 1, 3: 0},\n",
       " 1: {1: 0, 2: 1, 3: 0},\n",
       " 2: {1: 0, 2: 1, 3: 0},\n",
       " 3: {1: 0, 2: 0, 3: 1},\n",
       " 4: {1: 0, 2: 0, 3: 1},\n",
       " 5: {1: 1, 2: 0, 3: 0},\n",
       " 6: {1: 1, 2: 0, 3: 0},\n",
       " 7: {1: 1, 2: 0, 3: 0}}"
      ]
     },
     "execution_count": 8,
     "metadata": {},
     "output_type": "execute_result"
    }
   ],
   "source": [
    "# 得られた結果をデコードします。\n",
    "decoded_sample = model.decode_sample(raw_solution.first.sample, vartype=\"BINARY\")\n",
    "# さらに解を見やすくする処理を追加します。\n",
    "# .array(変数名, 要素番号)で希望する要素の値を抽出することができます。\n",
    "x_solution = {}\n",
    "for i in range(N_VER):\n",
    "    x_solution[i] = {}\n",
    "    for j in range(1,N_COLOR):\n",
    "        x_solution[i][j] = decoded_sample.array('x', (i, j))\n",
    "x_solution"
   ]
  },
  {
   "cell_type": "markdown",
   "metadata": {},
   "source": [
    "(0,1,2), (3, 4), (5,6,7)にそれぞれ分けられたようです。これは今回与えたグラフ上でそれぞれクリークになっています。\n",
    "\n",
    "得られた解が制約を満たしているか確認する方法をご紹介します。それには`.constraints(only_broken=True)`で結果を表示しましょう。これは制約項(今回は第一項)が破れているとき(0でないとき)、どのように破れたかを記録してくれます。  "
   ]
  },
  {
   "cell_type": "code",
   "execution_count": 9,
   "metadata": {},
   "outputs": [
    {
     "name": "stdout",
     "output_type": "stream",
     "text": [
      "{}\n"
     ]
    }
   ],
   "source": [
    "print(decoded_sample.constraints(only_broken=True))"
   ]
  },
  {
   "cell_type": "markdown",
   "metadata": {},
   "source": [
    "今回は制約が満たされているため、空の辞書となっています。  \n",
    "decodeの機能はこのように制約が満たされているかを自動的にチェックできる、非常に便利な関数です。"
   ]
  },
  {
   "cell_type": "markdown",
   "metadata": {},
   "source": [
    "## OpenJij に投げる\n",
    "\n",
    "先ほどはPyQUBOのSAで問題を解いてみました。次はOpenJijに投げてみましょう。  \n",
    "OpenJijでもSAを実行できますが、せっかくなのでPyQUBOには実装されていないSQA(Simulated quantum annealing)を用いたいと思います。"
   ]
  },
  {
   "cell_type": "code",
   "execution_count": 10,
   "metadata": {},
   "outputs": [
    {
     "name": "stdout",
     "output_type": "stream",
     "text": [
      "  x[0][1] x[0][2] x[0][3] x[1][1] x[1][2] x[1][3] ... x[7][3] energy num_oc.\n",
      "0       0       1       0       0       1       0 ...       0   -8.0       1\n",
      "['BINARY', 1 rows, 1 samples, 24 variables]\n"
     ]
    }
   ],
   "source": [
    "# OpenJijをインポートします。\n",
    "import openjij as oj\n",
    "\n",
    "# SQAを用いて問題を解きます。\n",
    "sampler = oj.SQASampler()\n",
    "# QUBOに先ほど.to_quboで作成したものを代入します。\n",
    "response = sampler.sample_qubo(Q=qubo)\n",
    "print(response)"
   ]
  },
  {
   "cell_type": "markdown",
   "metadata": {},
   "source": [
    "`sampler`の部分を取り替えるだけで、他のアルゴリズムやマシンに投げることができます。興味のある方は試してみると良いでしょう。\n",
    "\n",
    "ではOpenJijで返ってきた結果を、PyQUBOのデコーダーを使ってデコードしてみましょう。\n",
    "具体的には以下のようにします。"
   ]
  },
  {
   "cell_type": "code",
   "execution_count": 11,
   "metadata": {},
   "outputs": [
    {
     "data": {
      "text/plain": [
       "{0: {1: 0, 2: 1, 3: 0},\n",
       " 1: {1: 0, 2: 1, 3: 0},\n",
       " 2: {1: 0, 2: 1, 3: 0},\n",
       " 3: {1: 0, 2: 0, 3: 1},\n",
       " 4: {1: 0, 2: 0, 3: 1},\n",
       " 5: {1: 1, 2: 0, 3: 0},\n",
       " 6: {1: 1, 2: 0, 3: 0},\n",
       " 7: {1: 1, 2: 0, 3: 0}}"
      ]
     },
     "execution_count": 11,
     "metadata": {},
     "output_type": "execute_result"
    }
   ],
   "source": [
    "# エネルギーが一番低い状態を取り出します。\n",
    "dict_solution = response.first.sample\n",
    "# 得られた結果をデコードします。\n",
    "decoded_sample = model.decode_sample(raw_solution.first.sample, vartype=\"BINARY\")\n",
    "# さらに解を見やすくする処理を追加します。\n",
    "# .array(変数名, 要素番号)で希望する要素の値を抽出することができます。\n",
    "x_solution = {}\n",
    "for i in range(N_VER):\n",
    "    x_solution[i] = {}\n",
    "    for j in range(1,N_COLOR):\n",
    "        x_solution[i][j] = decoded_sample.array('x', (i, j))\n",
    "x_solution"
   ]
  },
  {
   "cell_type": "markdown",
   "metadata": {},
   "source": [
    "## まとめ\n",
    "\n",
    "PyQUBOを使って定式化する方法とOpenJijとの連携を見ました。\n",
    "\n",
    "手順としては\n",
    "\n",
    "1. pyqubo.Arrayで変数を用意\n",
    "2. QUBOを定式化\n",
    "3. QUBOをコンパイルして辞書型に変換\n",
    "4. 辞書型QUBOを受け付けるOpenJijなどのソルバーに投げて最適化問題を解く\n",
    "5. 返ってきた解を添字をキーとした辞書型にしてdecodeする\n",
    "\n",
    "という流れになります。  \n",
    "PyQUBOは定式化、制約の評価を行う非常に便利で協力なツールです。  \n",
    "様々なソルバーを提供するOpenJijとうまく組み合わせて使うことで、より快適な開発を行うことができます。"
   ]
  },
  {
   "cell_type": "markdown",
   "metadata": {},
   "source": [
    "参考：PyQUBO公式ドキュメント\n",
    "https://pyqubo.readthedocs.io/en/latest/reference/array.html?highlight=arry%20create"
   ]
  }
 ],
 "metadata": {
  "kernelspec": {
   "display_name": "Python 3",
   "language": "python",
   "name": "python3"
  },
  "language_info": {
   "codemirror_mode": {
    "name": "ipython",
    "version": 3
   },
   "file_extension": ".py",
   "mimetype": "text/x-python",
   "name": "python",
   "nbconvert_exporter": "python",
   "pygments_lexer": "ipython3",
   "version": "3.9.3"
  }
 },
 "nbformat": 4,
 "nbformat_minor": 2
}
