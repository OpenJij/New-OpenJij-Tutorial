{
    "cells": [
        {
            "cell_type": "markdown",
            "metadata": {},
            "source": [
                "# 11-HUBO: Higher Order Unconstraint Binary Optimization"
            ]
        },
        {
            "cell_type": "markdown",
            "metadata": {
                "colab_type": "text",
                "id": "view-in-github"
            },
            "source": [
                "[![Open in Colab](https://colab.research.google.com/assets/colab-badge.svg)](https://colab.research.google.com/github/OpenJij/OpenJijTutorial/blob/master/source/ja/011-HuboSolver.ipynb)"
            ]
        },
        {
            "cell_type": "markdown",
            "metadata": {},
            "source": [
                "\u901a\u5e38\u306e\u30a4\u30b8\u30f3\u30b0\u30e2\u30c7\u30eb\u306b\u5bfe\u3057\u3066\u9ad8\u6b21\u306e\u9805\u3092\u5c0e\u5165\u3057\u305f\u30e2\u30c7\u30eb\u3092\u8003\u3048\u3066\u307f\u307e\u3059\u3002 \u5177\u4f53\u7684\u306b\u306f\uff12\u5024\u306e\u30d0\u30a4\u30ca\u30ea\u5909\u6570$\\sigma_{i} \\in \\{-1, +1\\}$ \u307e\u305f\u306f $\\sigma_{i} \\in \\{0, 1\\}$\u306b\u5bfe\u3057\u3066\u6b21\u306e\u3088\u3046\u306a\u30a8\u30cd\u30eb\u30ae\u30fc\u95a2\u6570\u3092\u5c0e\u5165\u3057\u3066\u307f\u307e\u3057\u3087\u3046\u3002\n",
                "\n",
                "$$\n",
                "H= c+\\sum_{i} h_{i} \\sigma_{i}+\\sum_{i<j} J_{i j} \\sigma_{i} \\sigma_{j}+\\sum_{i<j<k} K_{i, j, k} \\sigma_{i} \\sigma_{j} \\sigma_{k}+\\cdots,\n",
                "\\\\\n",
                "i=1,\\ldots ,N\n",
                "$$\n",
                "\n",
                "\u3053\u3053\u3067\u3001\u6dfb\u3048\u5b57$i,j,k,\\ldots$\u306f\u30d0\u30a4\u30ca\u30ea\u5909\u6570\u3092\u6307\u5b9a\u3059\u308b\u30a4\u30f3\u30c7\u30c3\u30af\u30b9\u3067\u3001$1<= i,j,k,... <=N$\u306e\u5024\u3092\u53d6\u308a\u307e\u3059\u3002$c$\u306f\u5b9a\u6570\u3067\u3042\u308a\u30010\u6b21\u306e\u9805\u306b\u5bfe\u5fdc\u3057\u307e\u3059\u3002\n",
                "\u3053\u306e\u30a8\u30cd\u30eb\u30ae\u30fc\u95a2\u6570\u306e\u6700\u5c0f\u5024\u3092\u4e0e\u3048\u308b\u5909\u6570\u306e\u7d44$(\\sigma_{1} ,\\sigma_{2} ,\\ldots,\\sigma_{N} )$\u3092\u6c42\u3081\u308b\u554f\u984c\u306f\u3001higher-order unconstrained binary optimization (HUBO)\u3084polynomial unconstrained binary optimization (PUBO)\u306a\u3069\u3069\u547c\u3070\u308c\u3066\u3044\u307e\u3059\u3002\u4ee5\u4e0b\u3067\u306fHUBO\u3067\u7d71\u4e00\u3057\u3066\u547c\u79f0\u3059\u308b\u3053\u3068\u306b\u3057\u307e\u3059\u3002\n",
                "\u3053\u306e\u624b\u306e\u554f\u984c\u306f\u901a\u5e38\u306e\u30a4\u30b8\u30f3\u30b0\u30e2\u30c7\u30eb\u3092\u81ea\u7136\u306b\u62e1\u5f35\u3057\u305f\u3082\u306e\u3068\u307f\u306a\u3059\u3053\u3068\u304c\u3067\u304d\u3001\u4f8b\u3048\u3070\u3001\u91cf\u5b50\u5316\u5b66\u306e\u5206\u91ce\u3067\u73fe\u308c\u307e\u3059\u3002\n",
                "\u3053\u306e\u30c1\u30e5\u30fc\u30c8\u30ea\u30a2\u30eb\u3067OpenJij\u3092\u7528\u3044\u305fHUBO\u306e\u89e3\u6cd5\u3092\u7d39\u4ecb\u3057\u307e\u3059\u3002"
            ]
        },
        {
            "cell_type": "markdown",
            "metadata": {},
            "source": [
                "## HUBO\u306e\u5b9a\u7fa9\n",
                "\n",
                "\u672c\u30c1\u30e5\u30fc\u30c8\u30ea\u30a2\u30eb\u3067\u306f\u3001\u7c21\u5358\u306e\u305f\u3081\u3001\u4ee5\u4e0b\u306e\u3088\u3046\u306a3\u6b21\u4ee5\u4e0b\u306e\u9805\u306e\u307f\u304c\u73fe\u308c\u308b$N=3$\u5909\u6570\u306e\u554f\u984c\u3092\u8003\u3048\u307e\u3059\u3002\u4ee5\u4e0b\u3067\u306f\u30d0\u30a4\u30ca\u30ea\u5909\u6570\u306f$\\{-1,+1\\}$\u306e\u30b9\u30d4\u30f3\u5909\u6570\u3068\u3057\u307e\u3059\u3002\n",
                "\n",
                "$$\n",
                "H = -\\sigma_1 -\\sigma_1\\sigma_2 +\\sigma_1\\sigma_2\\sigma_3,\\;\\;\\; \\sigma_i \\in \\{-1, +1\\}\n",
                "$$\n",
                "\n",
                "OpenJij\u3067\u3053\u306e\u554f\u984c\u3092\u89e3\u304f\u305f\u3081\u306b\u3001\u307e\u305a\u306f\u3053\u306e\u30a8\u30cd\u30eb\u30ae\u30fc\u95a2\u6570\u3092python\u306e\u8f9e\u66f8\u578b\u3067\u6b21\u306e\u3088\u3046\u306b\u8868\u73fe\u3057\u307e\u3059\u3002\n",
                "\u8f9e\u66f8\u578b\u306ekey\u306b\u76f8\u4e92\u4f5c\u7528\u306b\u95a2\u308f\u308b\u30b9\u30d4\u30f3\u5909\u6570\u3092\u6307\u5b9a\u3059\u308b\u30a4\u30f3\u30c7\u30c3\u30af\u30b9\u3001value\u306b\u5bfe\u5fdc\u3059\u308b\u76f8\u4e92\u4f5c\u7528\u306e\u5024\u3092\u8a2d\u5b9a\u3057\u307e\u3059\u3002"
            ]
        },
        {
            "cell_type": "code",
            "execution_count": 1,
            "metadata": {},
            "outputs": [],
            "source": [
                "polynomial = {(1,): -1, (1,2): -1, (1,2,3): 1}"
            ]
        },
        {
            "cell_type": "markdown",
            "metadata": {
                "tags": []
            },
            "source": [
                "## HUBO\u306e\u76f4\u63a5\u89e3\u6cd5\n",
                "\n",
                "\u901a\u5e38HUBO\u3092\u89e3\u304f\u969b\u306f\u76f8\u4e92\u4f5c\u7528\u306e\u6b21\u6570\u30922\u6b21\u4ee5\u4e0b\u306b\u843d\u3068\u3057\u305fQUBO\u3092\u751f\u6210\u3057\u3066\u3053\u308c\u3092\u89e3\u304d\u307e\u3059\u304c\u3001\n",
                "OpenJij\u3067\u306fHUBO\u3092QUBO\u306b\u5909\u63db\u3059\u308b\u3053\u3068\u306a\u304f\u3001\u4ee5\u4e0b\u306esample_hubo\u30e1\u30bd\u30c3\u30c9\u3092\u7528\u3044\u308b\u3053\u3068\u3067\n",
                "\u76f4\u63a5SA\u3067\u89e3\u3092\u6c42\u3081\u308b\u3053\u3068\u304c\u3067\u304d\u307e\u3059\u3002\n"
            ]
        },
        {
            "cell_type": "code",
            "execution_count": 2,
            "metadata": {},
            "outputs": [
                {
                    "name": "stdout",
                    "output_type": "stream",
                    "text": [
                        "   1  2  3 energy num_oc.\n",
                        "0 +1 +1 -1   -3.0       1\n",
                        "['SPIN', 1 rows, 1 samples, 3 variables]\n"
                    ]
                }
            ],
            "source": [
                "import openjij as oj\n",
                "\n",
                "# sample_hubo\u30e1\u30bd\u30c3\u30c9\u3092\u5229\u7528\u3059\u308b\u305f\u3081\u306b\u306f\u3001SASampler\u30e1\u30bd\u30c3\u30c9\u3092\u7528\u3044\u308b\u5fc5\u8981\u304c\u3042\u308a\u307e\u3059\u3002\n",
                "sampler = oj.SASampler()\n",
                "\n",
                "# sample_hubo\u30e1\u30bd\u30c3\u30c9\u306b\u6295\u3052\u307e\u3059\u3002\n",
                "# sample_hubo\u30e1\u30bd\u30c3\u30c9\u306e\u7b2c\uff12\u5f15\u6570\u306f\u5909\u6570\u306e\u30bf\u30a4\u30d7\u3001\"SPIN\"\u3082\u3057\u304f\u306f\"BINARY\"\u3092\u6307\u5b9a\u3057\u307e\u3059\u3002\n",
                "# SPIN\u3067\u306f{-1,1}\u3001BINARY\u3067\u306f{0,1}\u304c\u5909\u6570\u3068\u3057\u3066\u6307\u5b9a\u3055\u308c\u307e\u3059\u3002  \n",
                "response = sampler.sample_hubo(polynomial, \"SPIN\")\n",
                "# \u7d50\u679c\u3092\u8868\u793a\u3057\u307e\u3059\u3002\n",
                "print(response)"
            ]
        },
        {
            "cell_type": "markdown",
            "metadata": {},
            "source": [
                "$\\sigma_1=+1,\\;\\sigma_2=+1,\\;\\sigma_3=-1$\u304c\u89e3\u3068\u3057\u3066\u5f97\u3089\u308c\u3066\u3044\u308b\u3053\u3068\u304c\u5206\u304b\u308a\u307e\u3059\u3002\n",
                "\u3053\u306e\u3068\u304d\u306e\u30a8\u30cd\u30eb\u30ae\u30fc\u306f-3\u3067\u3042\u308a\u3001\u3053\u308c\u306f\u6700\u9069\u89e3\u3067\u3059\u3002\n",
                "\n",
                "\u306a\u304a\u3001sample_hubo\u30e1\u30bd\u30c3\u30c9\u306f\u3001\u4ee5\u4e0b\u306e\u3088\u3046\u306b\u8f9e\u66f8\u306ekey\u3068\u3057\u3066\u6570\u5024\u4ee5\u5916\u3082\u6271\u3046\u3053\u3068\u304c\u3067\u304d\u307e\u3059\u3002"
            ]
        },
        {
            "cell_type": "code",
            "execution_count": 3,
            "metadata": {},
            "outputs": [
                {
                    "name": "stdout",
                    "output_type": "stream",
                    "text": [
                        "   a  b  c energy num_oc.\n",
                        "0 +1 +1 -1   -3.0       1\n",
                        "['SPIN', 1 rows, 1 samples, 3 variables]\n"
                    ]
                }
            ],
            "source": [
                "response = sampler.sample_hubo({('a',): -1, ('a', 'b'): -1, ('a', 'b', 'c'): 1}, \"SPIN\")\n",
                "print(response)"
            ]
        },
        {
            "cell_type": "markdown",
            "metadata": {},
            "source": [
                "## QUBO\u5909\u63db\u306b\u3088\u308b\u89e3\u6cd5\n",
                "\n",
                "HUBO\u3092\u89e3\u304f\u65b9\u6cd5\u306e\u4e00\u3064\u3068\u3057\u3066\u30013\u6b21\u4ee5\u4e0a\u306e\u9ad8\u6b21\u306e\u9805\u3092\uff12\u6b21\u4ee5\u4e0b\u306b\u5909\u63db\u3057\u3066\u5bfe\u5fdc\u3059\u308bQUBO\u3092\u69cb\u6210\u3057\u3053\u308c\u3092\u89e3\u304f\u3068\u3044\u3046\u3082\u306e\u304c\u3042\u308a\u307e\u3059\u3002\n",
                "\u3053\u306e\u7ae0\u3067\u306f\u305d\u306e\u65b9\u6cd5\u3092\u8aac\u660e\u3057\u307e\u3059\u3002\n",
                "\n",
                "3\u6b21\u76f8\u4e92\u4f5c\u7528\u304b\u3089\u5bfe\u5fdc\u3059\u308bQUBO\u3092\u751f\u6210\u3059\u308b\u305f\u3081\u306bD-Wave\u306edimod\u3068\u3044\u3046\u30e9\u30a4\u30d6\u30e9\u30ea\u3092\u4f7f\u3044\u307e\u3059\u3002\n",
                "\u3053\u3053\u3067\u30015.0\u306b\u6307\u5b9a\u3055\u308c\u3066\u3044\u308b\u30da\u30ca\u30eb\u30c6\u30a3\u306e\u5927\u304d\u3055(strength)\u306f\u3001\u9ad8\u6b21\u76f8\u4e92\u4f5c\u7528\u3092\uff12\u6b21\u4ee5\u4e0b\u306b\u5909\u63db\u3059\u308b\u969b\u306b\u751f\u3058\u305f\u5236\u7d04\u6761\u4ef6\u306b\u5bfe\u3059\u308b\u30da\u30ca\u30eb\u30c6\u30a3\u3067\u3001\u5c0f\u3055\u3059\u304e\u308b\u3068\u751f\u6210\u3057\u305fQUBO\u306e\u6700\u9069\u89e3\u304c\u3082\u3068\u306eHUBO\u3068\u4e00\u81f4\u3057\u306a\u304f\u306a\u308a\u307e\u3059\u3002\u9006\u306b\u5927\u304d\u3059\u304e\u308b\u3068\u305d\u3082\u305d\u3082\u6700\u9069\u89e3\u304c\u5f97\u3089\u308c\u306a\u304f\u306a\u3063\u3066\u3057\u307e\u3044\u307e\u3059\u3002\u5b9f\u969b\u4e0a\u3001\u3069\u308c\u304f\u3089\u3044\u306e\u5024\u3092\u6307\u5b9a\u3059\u308c\u3070\u3044\u3044\u306e\u304b\u3068\u3044\u3046\u306e\u306f\u96e3\u3057\u3044\u554f\u984c\u3067\u3059\u304c\u3001\u3053\u3053\u3067\u306f5.0\u306b\u6307\u5b9a\u3057\u3066\u3044\u307e\u3059\u3002\n"
            ]
        },
        {
            "cell_type": "code",
            "execution_count": 4,
            "metadata": {},
            "outputs": [
                {
                    "name": "stdout",
                    "output_type": "stream",
                    "text": [
                        "0\u6b21\u306e\u9805: 10.0\n",
                        "1\u6b21\u306e\u9805: {1: -3.5, '1*2': -3.5, 3: 0.0, 2: -2.5, 'aux1,2': -5.0}\n",
                        "2\u6b21\u306e\u9805: {('1*2', 1): 2.5, (3, '1*2'): 1.0, (2, 1): 2.5, (2, '1*2'): 2.5, ('aux1,2', 1): 5.0, ('aux1,2', '1*2'): 5.0, ('aux1,2', 2): 5.0}\n"
                    ]
                }
            ],
            "source": [
                "import dimod\n",
                "\n",
                "# HUBO\u3001strength\u306e\u5927\u304d\u3055\u3001\u5909\u6570\u306e\u30bf\u30a4\u30d7\u3092\u6307\u5b9a\u3057\u3066\u5bfe\u5fdc\u3059\u308bquadratic\u30e2\u30c7\u30eb\u3092\u751f\u6210\u3057\u307e\u3059\u3002\n",
                "bqm_dimod = dimod.make_quadratic(poly=polynomial, strength=5.0, vartype=\"SPIN\")\n",
                "print('0\u6b21\u306e\u9805:', bqm_dimod.offset)\n",
                "print('1\u6b21\u306e\u9805:', dict(bqm_dimod.linear))    # bqm.linear\u306fpython\u306edict\u306b\u5909\u63db\u3057\u3066\u8868\u793a\u3057\u307e\u3059\u3002\n",
                "print('2\u6b21\u306e\u9805:', dict(bqm_dimod.quadratic)) # bqm.quadratic\u3082python\u306edict\u306b\u5909\u63db\u3057\u3066\u8868\u793a\u3057\u307e\u3059\u3002"
            ]
        },
        {
            "cell_type": "markdown",
            "metadata": {},
            "source": [
                "\u898b\u3066\u306e\u901a\u308a\u3067\u3059\u304c\u3001\u3082\u3068\u306e\u5909\u6570 $\\sigma_1,\\sigma_2,\\sigma_3$ \u306b\u52a0\u3048\u3066 $\\sigma_{\"1\u22172\"}$\u3001$\\sigma_{\"\\rm aux1,2\"}$ \u3068\u3044\u3046\uff12\u3064\u306e\u6587\u5b57\u5217\u3067\u8868\u73fe\u3055\u308c\u305f\u5909\u6570\u304c\u73fe\u308c\u3066\u3044\u307e\u3059\u3002\u4e00\u822c\u306bHUBO\u3092QUBO\u306b\u5909\u63db\u3059\u308b\u3068\u5909\u6570\u306e\u6570\u3001\u76f8\u4e92\u4f5c\u7528\u306e\u6570\u304c\u5897\u3048\u3066\u3057\u307e\u3044\u307e\u3059\u3002\n",
                "\u4eca\u56de\u306e\u30b1\u30fc\u30b9\u3067\u306fHUBO\u306e\u5834\u5408\u306e\u5909\u6570\u304c3\u500b\u3001\u76f8\u4e92\u4f5c\u7528\u306e\u6570\u30823\u500b\u3067\u3057\u305f\u304c\u3001QUBO\u306b\u5909\u63db\u3059\u308b\u3053\u3068\u3067\u3001\u5909\u6570\u304c5\u500b\u3001\u76f8\u4e92\u4f5c\u7528\u306e\u6570\u304c7\u500b\u306b\u5897\u3048\u3066\u3044\u307e\u3059\u3002\n",
                "\n",
                "\u3053\u306eQUBO\u3092openJij\u306eSA\u3067\u89e3\u304d\u305f\u3044\u308f\u3051\u3067\u3059\u304c\u3001openJij\u3067\u306f\u6570\u5024\u3068\u6587\u5b57\u5217\u304c\u6df7\u5728\u3057\u305f\u5909\u6570\u306f\u6271\u3048\u306a\u3044\u305f\u3081\u3001\u6587\u5b57\u5217\u3092\u5168\u3066\u6574\u6570\u306b\u5909\u63db\u3059\u308b\u5fc5\u8981\u304c\u3042\u308a\u307e\u3059\u3002\n",
                "\u305d\u306e\u305f\u3081\u306bdimod\u306erelabel_variables\u3068\u3044\u3046\u30e1\u30bd\u30c3\u30c9\u3092\u4f7f\u3063\u3066\"1\u22172\"\u3068\"aux1,2\"\u3092\u6574\u6570\u306b\u5909\u63db\u3057\u307e\u3059\u3002"
            ]
        },
        {
            "cell_type": "code",
            "execution_count": 5,
            "metadata": {},
            "outputs": [
                {
                    "name": "stdout",
                    "output_type": "stream",
                    "text": [
                        "0\u6b21\u306e\u9805: 10.0\n",
                        "1\u6b21\u306e\u9805: {1: -3.5, 4: -3.5, 3: 0.0, 2: -2.5, 5: -5.0}\n",
                        "2\u6b21\u306e\u9805: {(4, 1): 2.5, (3, 4): 1.0, (2, 1): 2.5, (2, 4): 2.5, (5, 1): 5.0, (5, 4): 5.0, (5, 2): 5.0}\n",
                        "\u5909\u6570\u306e\u5bfe\u5fdc\u95a2\u4fc2: {1: 1, 2: 2, 3: 3, '1*2': 4, 'aux1,2': 5}\n"
                    ]
                }
            ],
            "source": [
                "#\u6587\u5b57\u5217\u3068\u6574\u6570\u306e\u5bfe\u5fdc\u95a2\u4fc2\u3092\u4f5c\u308b\u95a2\u6570\u3092\u5b9a\u7fa9\u3057\u307e\u3059\u3002\n",
                "def generate_mapping(variables, N):\n",
                "    mapping = {}\n",
                "    #\u3082\u3068\u3082\u3068\u6574\u6570\u3067\u3042\u3063\u305fN\u500b\u306e\u30a4\u30f3\u30c7\u30c3\u30af\u30b9\u306f\u5909\u5316\u3057\u306a\u3044\u3088\u3046\u306b\u3057\u307e\u3059\u3002\n",
                "    for i in range(1, N+1):\n",
                "        mapping[i] = i \n",
                "    count = N+1\n",
                "    \n",
                "    #\u65b0\u305f\u306b\u73fe\u308c\u305f\u6587\u5b57\u5217\u3092\u6574\u6570\u306b\u5909\u63db\u3057\u307e\u3059\u3002\n",
                "    for v in variables:\n",
                "        if type(v) == str:\n",
                "            mapping[v] = count\n",
                "            count += 1\n",
                "    return mapping\n",
                "\n",
                "# \u5909\u63db\u524d\u3068\u5909\u63db\u5f8c\u306e\u5909\u6570\u306e\u5bfe\u5fdc\u95a2\u4fc2\u3092\u8868\u3057\u305f\u8f9e\u66f8\u3092\u4f5c\u308a\u307e\u3059\u3002\n",
                "mapping = generate_mapping(bqm_dimod.variables, 3)\n",
                "\n",
                "# \u30a4\u30f3\u30c7\u30c3\u30af\u30b9\u30921\u59cb\u307e\u308a\u306e\u6574\u6570\u306b\u5909\u63db\u3057\u307e\u3059\u3002\n",
                "bqm_dimod.relabel_variables(mapping)\n",
                "\n",
                "print('0\u6b21\u306e\u9805:', bqm_dimod.offset)\n",
                "print('1\u6b21\u306e\u9805:', dict(bqm_dimod.linear))    # bqm.linear\u306fpython\u306edict\u306b\u5909\u63db\u3057\u3066\u8868\u793a\u3057\u307e\u3059\u3002\n",
                "print('2\u6b21\u306e\u9805:', dict(bqm_dimod.quadratic)) # bqm.quadratic\u3082python\u306edict\u306b\u5909\u63db\u3057\u3066\u8868\u793a\u3057\u307e\u3059\u3002\n",
                "print('\u5909\u6570\u306e\u5bfe\u5fdc\u95a2\u4fc2:', mapping) # Relabel\u3057\u305f\u5f8c\u306e\u30a4\u30f3\u30c7\u30c3\u30af\u30b9\u3068\u5143\u306e\u30a4\u30f3\u30c7\u30c3\u30af\u30b9\u306e\u5bfe\u5fdc\u95a2\u4fc2\u3092\u8868\u793a\u3057\u307e\u3059\u3002"
            ]
        },
        {
            "cell_type": "markdown",
            "metadata": {},
            "source": [
                "\u5168\u3066\u306e\u30a4\u30f3\u30c7\u30c3\u30af\u30b9\u304c\u6574\u6570\u306b\u5909\u63db\u3055\u308c\u307e\u3057\u305f\u3002\u305d\u308c\u3067\u306f\u3053\u306eQUBO\u3092OpenJij\u3092\u5229\u7528\u3057\u3066\u89e3\u3044\u3066\u307f\u307e\u3057\u3087\u3046\u3002"
            ]
        },
        {
            "cell_type": "code",
            "execution_count": 6,
            "metadata": {},
            "outputs": [
                {
                    "name": "stdout",
                    "output_type": "stream",
                    "text": [
                        "   1  2  3  4  5 energy num_oc.\n",
                        "0 +1 +1 -1 +1 -1   -3.0       1\n",
                        "['SPIN', 1 rows, 1 samples, 5 variables]\n"
                    ]
                }
            ],
            "source": [
                "# dimod\u306ebqm\u3092OpenJij\u306eBinaryQuadraticModel\u306b\u5909\u63db\u3057\u307e\u3059\u3002\n",
                "bqm_oj = oj.BinaryQuadraticModel(dict(bqm_dimod.linear), dict(bqm_dimod.quadratic), bqm_dimod.offset, vartype=\"SPIN\")\n",
                "\n",
                "# sample\u30e1\u30bd\u30c3\u30c9\u3092\u4f7f\u3063\u3066SA\u3092\u884c\u3044\u307e\u3059\u3002\n",
                "response = sampler.sample(bqm_oj)\n",
                "print(response) "
            ]
        },
        {
            "cell_type": "markdown",
            "metadata": {},
            "source": [
                "\u3053\u3053\u3067\u5f97\u3089\u308c\u305f\u30a8\u30cd\u30eb\u30ae\u30fc\u306f\u5148\u7a0b\u6c7a\u3081\u305fstrength\u306e\u5024\u306b\u3088\u3063\u3066\u306f\u3082\u3068\u306ehubo\u306e\u30a8\u30cd\u30eb\u30ae\u30fc\u3068\u5bfe\u5fdc\u3057\u3066\u306a\u3044\u53ef\u80fd\u6027\u304c\u3042\u308a\u307e\u3059\u3002\n",
                "\u3057\u305f\u304c\u3063\u3066\u3001\u6539\u3081\u3066\u30a8\u30cd\u30eb\u30ae\u30fc\u3092\u8a08\u7b97\u3059\u308b\u5fc5\u8981\u304c\u3042\u308a\u307e\u3059\u3002\n",
                "\u4eca\u56de\u306e\u5834\u5408\u3001\u3082\u3068\u3082\u3068\u5909\u6570\u306f$\\sigma_1,\\sigma_2,\\sigma_3$\u3060\u3051\u3060\u3063\u305f\u306e\u3067\u3001\u3053\u308c\u3089\u306e\u30b9\u30d4\u30f3\u914d\u4f4d\u3060\u3051\u3092\u3064\u304b\u3063\u3066\u30a8\u30cd\u30eb\u30ae\u30fc\u3092\u8a08\u7b97\u3057\u307e\u3059\u3002\n",
                "\u3053\u3053\u3067\u306f$\\sigma_1=+1,\\sigma_2=+1,\\sigma_3=-1$\u3068\u306a\u3063\u3066\u3044\u307e\u3059\u3002"
            ]
        },
        {
            "cell_type": "code",
            "execution_count": 7,
            "metadata": {},
            "outputs": [
                {
                    "name": "stdout",
                    "output_type": "stream",
                    "text": [
                        "\u5bfe\u5fdc\u3059\u308bHUBO\u306e\u89e3: {1: 1, 2: 1, 3: -1}\n",
                        "\u5bfe\u5fdc\u3059\u308bHUBO\u306e\u89e3\u306e\u30a8\u30cd\u30eb\u30ae\u30fc: -3.0\n"
                    ]
                }
            ],
            "source": [
                "# \u5143\u306eHUBO\u306e\u89e3\u306b\u713c\u304d\u76f4\u3057\u307e\u3059\u3002\n",
                "hubo_configuration = {i+1: response.record[0][0][i] for i in range(3)}\n",
                "print('\u5bfe\u5fdc\u3059\u308bHUBO\u306e\u89e3:', hubo_configuration)\n",
                "print('\u5bfe\u5fdc\u3059\u308bHUBO\u306e\u89e3\u306e\u30a8\u30cd\u30eb\u30ae\u30fc:', dimod.BinaryPolynomial(polynomial, \"SPIN\").energy(hubo_configuration))"
            ]
        },
        {
            "cell_type": "markdown",
            "metadata": {
                "tags": []
            },
            "source": [
                "\u3053\u3053\u3067\u306f\u30a8\u30cd\u30eb\u30ae\u30fc\u3068\u3057\u3066-3\u3092\u4e0e\u3048\u308b\u30b9\u30d4\u30f3\u914d\u4f4d\u304c\u5f97\u3089\u308c\u307e\u3057\u305f\u3002\u3053\u308c\u306f\u4eca\u56de\u306e\u30a8\u30cd\u30eb\u30ae\u30fc\u95a2\u6570\u306e\u6700\u9069\u89e3\u306b\u306a\u3063\u3066\u3044\u307e\u3059\u3002\n",
                "\n",
                "\u3053\u306e\u3053\u3068\u306fdimod\u306eExactPolySolver\u3068\u3044\u3046\u53b3\u5bc6\u306a\u6700\u9069\u89e3\u3092\u6c42\u3081\u308b\u30bd\u30eb\u30d0\u30fc\u3092\u4f7f\u3063\u3066\u5b9f\u969b\u306b\u78ba\u8a8d\u3059\u308b\u3053\u3068\u304c\u3067\u304d\u307e\u3059\u3002"
            ]
        },
        {
            "cell_type": "code",
            "execution_count": 8,
            "metadata": {},
            "outputs": [
                {
                    "name": "stdout",
                    "output_type": "stream",
                    "text": [
                        "\u6700\u9069\u89e3: {1: 1, 2: 1, 3: -1}\n",
                        "\u5bfe\u5fdc\u3059\u308b\u30a8\u30cd\u30eb\u30ae\u30fc: -3.0\n"
                    ]
                }
            ],
            "source": [
                "# \u5143\u306eHUBO\u306e\u53b3\u5bc6\u306a\u6700\u9069\u89e3\u3092\u78ba\u8a8d\u3057\u307e\u3059\u3002\n",
                "sampleset = dimod.ExactPolySolver().sample_hising(h = {}, J = polynomial)\n",
                "print('\u6700\u9069\u89e3:',sampleset.first.sample)\n",
                "print('\u5bfe\u5fdc\u3059\u308b\u30a8\u30cd\u30eb\u30ae\u30fc:',sampleset.first.energy)"
            ]
        },
        {
            "cell_type": "markdown",
            "metadata": {},
            "source": [
                "\u5143\u306eHUBO\u306b\u5bfe\u3059\u308b\u6700\u9069\u89e3\u306e\u30a8\u30cd\u30eb\u30ae\u30fc\u306f\u78ba\u304b\u306b-3.0\u3067\u3042\u308b\u3053\u3068\u304c\u308f\u304b\u308a\u307e\u3059\u3002\n",
                "\u4eca\u56de\u306f\u5909\u6570\u306e\u6570\u304c3\u500b\u3068\u5c11\u306a\u304b\u3063\u305f\u305f\u3081\u7c21\u5358\u306b\u53b3\u5bc6\u89e3\u3092\u6c42\u3081\u308b\u3053\u3068\u304c\u3067\u304d\u307e\u3059\u304c\u3001\u901a\u5e38\u306f\u53b3\u5bc6\u89e3\u3092\u6c42\u3081\u308b\u3053\u3068\u306f\u56f0\u96e3\u3067\u3042\u308b\u3053\u3068\u306b\u6ce8\u610f\u3057\u3066\u304f\u3060\u3055\u3044\u3002"
            ]
        },
        {
            "cell_type": "markdown",
            "metadata": {
                "tags": []
            },
            "source": [
                "## HUBO\u306b\u3088\u308b\u76f4\u63a5\u89e3\u6cd5\u3068QUBO\u5909\u63db\u306b\u3088\u308b\u89e3\u6cd5\u7d50\u679c\u306e\u6bd4\u8f03\n",
                "\n",
                "\u6700\u5f8c\u306b, HUBO\u306b\u3088\u308b\u76f4\u63a5\u89e3\u6cd5\u3068QUBO\u5909\u63db\u306b\u3088\u308b\u89e3\u6cd5\u3092\u6bd4\u8f03\u3057\u3066\u307f\u307e\u3057\u3087\u3046\u3002 SA\u306b\u3088\u308b\u30b7\u30df\u30e5\u30ec\u30fc\u30b7\u30e7\u30f3\u3092100\u56de\u884c\u3044\u3001\u5404\u30b7\u30df\u30e5\u30ec\u30fc\u30b7\u30e7\u30f3\u3067\u5f97\u3089\u308c\u305f\u30a8\u30cd\u30eb\u30ae\u30fc\u3092\u6bd4\u8f03\u3057\u3066\u307f\u307e\u3059\u3002\n",
                "\u307e\u305a\u306fsample_hubo\u30e1\u30bd\u30c3\u30c9\u3092\u7528\u3044\u305f\u5834\u5408\u306e\u30a8\u30cd\u30eb\u30ae\u30fc\u3092\u6c42\u3081\u307e\u3059\u3002"
            ]
        },
        {
            "cell_type": "code",
            "execution_count": 9,
            "metadata": {},
            "outputs": [],
            "source": [
                "# SA\u306b\u3088\u308b\u30b7\u30df\u30e5\u30ec\u30fc\u30b7\u30e7\u30f3\u3092\u884c\u3046\u56de\u6570\u3092\u6307\u5b9a\u3057\u307e\u3059\u3002\n",
                "num_reads = 100\n",
                "\n",
                "# num_reads\u3068\u3044\u3046\u30d1\u30e9\u30e1\u30fc\u30bf\u3092\u8a2d\u5b9a\u3059\u308b\u3068\u3001\u305d\u306e\u56de\u6570\u5206SA\u3092\u72ec\u7acb\u306b\u884c\u3044\u307e\u3059\u3002\n",
                "# \u4eca\u56de\u306f100\u306b\u6307\u5b9a\u3057\u307e\u3059\u3002\u30c7\u30d5\u30a9\u30eb\u30c8\u306f1\u306b\u306a\u3063\u3066\u3044\u307e\u3059\u3002\n",
                "response = sampler.sample_hubo(polynomial, \"SPIN\", num_reads=num_reads)\n",
                "\n",
                "# \u5f97\u3089\u308c\u305f\u30a8\u30cd\u30eb\u30ae\u30fc\u3092energy_hubo\u306b\u4ee3\u5165\u3057\u307e\u3059\n",
                "energy_hubo = response.energies"
            ]
        },
        {
            "cell_type": "markdown",
            "metadata": {},
            "source": [
                "\u6b21\u306bQUBO\u5909\u63db\u3092\u7528\u3044\u305f\u89e3\u6cd5\u306b\u3088\u308b\u30a8\u30cd\u30eb\u30ae\u30fc\u3092\u6c42\u3081\u307e\u3059\u3002\n",
                "\u524d\u306b\u8a2d\u5b9a\u3057\u305fstrength\u306e\u5927\u304d\u3055\u304c\u9069\u5207\u3067\u3042\u308b\u4fdd\u8a3c\u304c\u306a\u3044\u305f\u3081\u3001\u6bce\u56dehubo\u306e\u30a8\u30cd\u30eb\u30ae\u30fc\u3092\u8a08\u7b97\u3057\u76f4\u3059\u5fc5\u8981\u304c\u3042\u308b\u3053\u3068\u306b\u6ce8\u610f\u3057\u3066\u304f\u3060\u3055\u3044\u3002"
            ]
        },
        {
            "cell_type": "code",
            "execution_count": 10,
            "metadata": {},
            "outputs": [],
            "source": [
                "response = sampler.sample(bqm_oj, num_reads=num_reads)\n",
                "\n",
                "# \u5f97\u3089\u308c\u305f\u30b9\u30d4\u30f3\u914d\u4f4d\u304b\u3089hubo\u306e\u30a8\u30cd\u30eb\u30ae\u30fc\u3092\u8a08\u7b97\u3057\u76f4\u3059\u95a2\u6570\u3092\u5b9a\u7fa9\u3057\u307e\u3059\u3002\n",
                "def calculate_true_energy(polynomial, response, N):\n",
                "    energy_quad = []\n",
                "    for i in range(num_reads):\n",
                "        hubo_configuration = {j+1: response.record[i][0][j] for j in range(N)}\n",
                "        energy_quad.append(dimod.BinaryPolynomial(polynomial, \"BINARY\").energy(hubo_configuration))\n",
                "    return energy_quad\n",
                "\n",
                "# \u5f97\u3089\u308c\u305f\u30a8\u30cd\u30eb\u30ae\u30fc\u3092energy_quad\u306b\u4ee3\u5165\u3057\u307e\u3059\n",
                "energy_quad = calculate_true_energy(polynomial, response, 3)"
            ]
        },
        {
            "cell_type": "markdown",
            "metadata": {},
            "source": [
                "\u5f97\u3089\u308c\u305f100\u56de\u5206\u306e\u7d50\u679c\u3092\u30d2\u30b9\u30c8\u30b0\u30e9\u30e0\u306b\u3057\u3066\u6bd4\u8f03\u3057\u3066\u307f\u307e\u3059\u3002"
            ]
        },
        {
            "cell_type": "code",
            "execution_count": 11,
            "metadata": {},
            "outputs": [
                {
                    "data": {
                        "text/plain": [
                            "Text(0, 0.5, 'Frequency')"
                        ]
                    },
                    "execution_count": 11,
                    "metadata": {},
                    "output_type": "execute_result"
                },
                {
                    "data": {
                        "image/png": "[encoded data removed]",
                        "text/plain": [
                            "<Figure size 432x288 with 1 Axes>"
                        ]
                    },
                    "metadata": {
                        "needs_background": "light"
                    },
                    "output_type": "display_data"
                }
            ],
            "source": [
                "import matplotlib.pyplot as plt\n",
                "plt.hist(energy_hubo, label='HUBO', range=(-3, 1), bins=10, alpha=0.5)\n",
                "plt.hist(energy_quad, label='Through QUBO', range=(-3, 1), bins=10, alpha=0.5)\n",
                "plt.legend()\n",
                "plt.xlabel('Energy')\n",
                "plt.ylabel('Frequency')"
            ]
        },
        {
            "cell_type": "markdown",
            "metadata": {},
            "source": [
                "HUBO\u3092\u76f4\u63a5\u89e3\u3044\u305f\u65b9\u304cQUBO\u5909\u63db\u3092\u7528\u3044\u305f\u89e3\u6cd5\u306b\u6bd4\u3079\u3066\u308f\u305a\u304b\u306b\u591a\u304f\u6700\u9069\u89e3\u304c\u5f97\u3089\u308c\u3066\u3044\u307e\u3059\u3002\n",
                "\u305f\u3060\u3057\u3053\u306e\u554f\u984c\u3067\u306f\u4f8b\u3048\u3070strength\u30921\u306b\u8a2d\u5b9a\u3059\u308b\u3068QUBO\u5909\u63db\u3059\u308b\u89e3\u6cd5\u3067\u3088\u308a\u591a\u304f\u306e\u6700\u9069\u89e3\u304c\u5f97\u3089\u308c\u307e\u3059\u3002\n",
                "\u3064\u307e\u308a\u306f\u3058\u3081\u306b\u8a2d\u5b9a\u3057\u305fstrength=5\u3068\u3044\u3046\u5024\u304c\u5927\u304d\u3059\u304e\u305f\u3068\u3044\u3046\u3053\u3068\u3067\u3059\u3002\n",
                "\u5b9f\u969b\u306b\u78ba\u8a8d\u3057\u3066\u307f\u307e\u3057\u3087\u3046\u3002"
            ]
        },
        {
            "cell_type": "code",
            "execution_count": 12,
            "metadata": {},
            "outputs": [
                {
                    "data": {
                        "text/plain": [
                            "Text(0, 0.5, 'Frequency')"
                        ]
                    },
                    "execution_count": 12,
                    "metadata": {},
                    "output_type": "execute_result"
                },
                {
                    "data": {
                        "image/png": "[encoded data removed]",
                        "text/plain": [
                            "<Figure size 432x288 with 1 Axes>"
                        ]
                    },
                    "metadata": {
                        "needs_background": "light"
                    },
                    "output_type": "display_data"
                }
            ],
            "source": [
                "# strength\u30921\u306b\u8a2d\u5b9a\u3057\u3066QUBO\u306b\u5909\u63db\u3057\u307e\u3059\u3002\n",
                "bqm_dimod = dimod.make_quadratic(poly=polynomial, strength=1.0, vartype=\"SPIN\")\n",
                "\n",
                "#\u30a4\u30f3\u30c7\u30c3\u30af\u30b9\u3092\u6574\u6570\u306b\u5909\u63db\u3057\u3066\u304b\u3089OpenJij\u3067\u89e3\u304d\u307e\u3059\u3002\n",
                "bqm_dimod.relabel_variables(mapping)\n",
                "bqm_oj = oj.BinaryQuadraticModel(dict(bqm_dimod.linear), dict(bqm_dimod.quadratic), bqm_dimod.offset, vartype=\"SPIN\")\n",
                "response = sampler.sample(bqm_oj, num_reads=num_reads)\n",
                "energy_quad = calculate_true_energy(polynomial, response, 3)\n",
                "\n",
                "# \u30d2\u30b9\u30c8\u30b0\u30e9\u30e0\u3092\u8868\u793a\u3057\u307e\u3059\u3002\n",
                "plt.hist(energy_hubo, label='HUBO', range=(-3, 1), bins=10, alpha=0.5)\n",
                "plt.hist(energy_quad, label='Through QUBO', range=(-3, 1), bins=10, alpha=0.5)\n",
                "plt.legend()\n",
                "plt.xlabel('Energy')\n",
                "plt.ylabel('Frequency')"
            ]
        },
        {
            "cell_type": "markdown",
            "metadata": {},
            "source": [
                "\u4eca\u306e\u5834\u5408QUBO\u5909\u63db\u306b\u3088\u308b\u89e3\u6cd5\u3067\u5e38\u306b\u6700\u9069\u89e3\u304c\u5f97\u3089\u308c\u3066\u3044\u307e\u3059\u3002\n",
                "\u305f\u3060\u3057\u3001\u6700\u9069\u306astrength\u306e\u5024\u306f\u4e8b\u524d\u306b\u5206\u304b\u3089\u306a\u3044\u3053\u3068\u306b\u6ce8\u610f\u3057\u3066\u304f\u3060\u3055\u3044\u3002\n",
                "\u4eca\u306e\u5834\u5408strength=1\u3068\u3057\u3066\u6700\u9069\u89e3\u304c\u5f97\u3089\u308c\u3066\u3044\u307e\u3059\u304c\u3001\u4e00\u822c\u306eHUBO\u306b\u5bfe\u3057\u3066\u9069\u5207\u306astrength\u3092\u6c7a\u5b9a\u3059\u308b\u3053\u3068\u306f\u96e3\u3057\u3044\u554f\u984c\u3067\u3059\u3002\n",
                "\u307e\u305f\u3001QUBO\u5909\u63db\u3092\u884c\u3046\u3068\u3001\u5909\u6570\u306e\u6570\u3084\u76f8\u4e92\u4f5c\u7528\u306e\u6570\u304c\u5897\u3048\u3066\u3057\u307e\u3046\u3053\u3068\u3082\u554f\u984c\u3067\u3059\u3002\u3053\u308c\u306b\u3088\u308a\u4f59\u5206\u306a\u30e1\u30e2\u30ea\u304c\u5fc5\u8981\u306b\u306a\u3063\u3066\u3044\u307e\u3059\u3002\n",
                "\n",
                "\u3053\u3053\u307e\u3067\u4f8b\u3068\u3057\u3066\u6271\u3063\u3066\u304d\u305f\u30e2\u30c7\u30eb\u306f\u5358\u7d14\u3059\u304e\u305f\u306e\u3067\u3001\u3082\u3046\u5c11\u3057\u554f\u984c\u3067\u4e21\u8005\u306e\u89e3\u653e\u3092\u6bd4\u8f03\u3057\u3066\u307f\u307e\u3057\u3087\u3046\u3002\n",
                "\u5909\u6570\u306e\u6570\u3092$N=10$\u3001\u76f8\u4e92\u4f5c\u7528\u30923\u6b21\u306e\u5168\u7d50\u5408\u306b\u3057\u3066\u5024\u3092-1\u304b\u3089+1\u306e\u30e9\u30f3\u30c0\u30e0\u306b\u3057\u3066\u307f\u307e\u3059\u3002\n",
                "\u307e\u305a\u306f\u76f8\u4e92\u4f5c\u7528\u3092\u5b9a\u7fa9\u3057\u307e\u3059\u3002"
            ]
        },
        {
            "cell_type": "code",
            "execution_count": 13,
            "metadata": {},
            "outputs": [],
            "source": [
                "import random\n",
                "\n",
                "N=10\n",
                "polynomial = {}\n",
                "for i in range(1, N+1):\n",
                "    for j in range(i+1, N+1):\n",
                "        for k in range(j+1, N+1):\n",
                "            polynomial[(i,j,k)] = random.uniform(-1, +1)"
            ]
        },
        {
            "cell_type": "markdown",
            "metadata": {},
            "source": [
                "\u4eca\u307e\u3067\u3068\u540c\u69d8\u306b100\u56deSA\u3092\u884c\u3044\u5f97\u3089\u308c\u305f\u30a8\u30cd\u30eb\u30ae\u30fc\u3092\u6bd4\u8f03\u3057\u3066\u307f\u307e\u3059\u3002QUBO\u5909\u63db\u306e\u969b\u306estrength\u306f2\u3068\u3057\u307e\u3057\u305f\u3002"
            ]
        },
        {
            "cell_type": "code",
            "execution_count": 14,
            "metadata": {},
            "outputs": [
                {
                    "data": {
                        "text/plain": [
                            "Text(0, 0.5, 'Frequency')"
                        ]
                    },
                    "execution_count": 14,
                    "metadata": {},
                    "output_type": "execute_result"
                },
                {
                    "data": {
                        "image/png": "[encoded data removed]",
                        "text/plain": [
                            "<Figure size 432x288 with 1 Axes>"
                        ]
                    },
                    "metadata": {
                        "needs_background": "light"
                    },
                    "output_type": "display_data"
                }
            ],
            "source": [
                "#HUBO\u30bd\u30eb\u30d0\u30fc\u3067\u76f4\u63a5\u89e3\u304d\u307e\u3059\u3002\n",
                "response = sampler.sample_hubo(polynomial, \"SPIN\", num_reads=num_reads)\n",
                "energy_hubo = response.energies\n",
                "\n",
                "#QUBO\u5909\u63db\u3092\u901a\u3057\u3066\u89e3\u304d\u307e\u3059\u3002\n",
                "bqm_dimod = dimod.make_quadratic(poly=polynomial, strength=2, vartype=\"SPIN\")\n",
                "mapping = generate_mapping(bqm_dimod.variables, N)\n",
                "bqm_dimod.relabel_variables(mapping)\n",
                "bqm_oj = oj.BinaryQuadraticModel(dict(bqm_dimod.linear), dict(bqm_dimod.quadratic), bqm_dimod.offset, vartype=\"SPIN\")\n",
                "response = sampler.sample(bqm_oj, num_reads=num_reads)\n",
                "energy_quad = calculate_true_energy(polynomial, response, N)\n",
                "\n",
                "# \u30d2\u30b9\u30c8\u30b0\u30e9\u30e0\u3092\u8868\u793a\u3057\u307e\u3059\u3002\n",
                "max_e = max(max(energy_hubo), max(energy_quad))\n",
                "min_e = min(min(energy_hubo), min(energy_quad))\n",
                "plt.hist(energy_hubo, label='HUBO', range=(min_e, max_e), alpha=0.5)\n",
                "plt.hist(energy_quad, label='Through QUBO', range=(min_e, max_e), alpha=0.5)\n",
                "plt.legend()\n",
                "plt.xlabel('Energy')\n",
                "plt.ylabel('Frequency')"
            ]
        },
        {
            "cell_type": "markdown",
            "metadata": {},
            "source": [
                "\u3053\u306e\u30e2\u30c7\u30eb\u3067\u306f\u304b\u306a\u308a\u5dee\u304c\u51fa\u3066\u3044\u308b\u306e\u304c\u5206\u304b\u308a\u307e\u3059\u3002HUBO\u3092\u76f4\u63a5\u89e3\u3044\u305f\u307b\u3046\u304c\u3088\u308a\u30a8\u30cd\u30eb\u30ae\u30fc\u306e\u4f4e\u3044\u89e3\u304c\u5f97\u3089\u308c\u3066\u3044\u307e\u3059\u3002\n",
                "\u3082\u3061\u308d\u3093strength\u306e\u5024\u3092\u3088\u308a\u9069\u5207\u306a\u3082\u306e\u306b\u3059\u308c\u3070QUBO\u5909\u63db\u306e\u89e3\u6cd5\u306b\u3088\u308b\u89e3\u3082\u6539\u5584\u3059\u308b\u53ef\u80fd\u6027\u306f\u3042\u308a\u307e\u3059\u304c\u3001\u305d\u308c\u3092\u884c\u3046\u306e\u306f\u7c21\u5358\u3067\u306f\u3042\u308a\u307e\u305b\u3093\u3002"
            ]
        },
        {
            "cell_type": "markdown",
            "metadata": {},
            "source": [
                "## \u307e\u3068\u3081\n",
                "\n",
                "QUBO\u5909\u63db\u3092\u901a\u3057\u305f\u89e3\u6cd5\u3067\u306f\u3001QUBO\u306b\u5909\u63db\u3059\u308b\u305f\u3081\u306e\u524d\u51e6\u7406\u3084strength\u3068\u3044\u3046\u30d1\u30e9\u30e1\u30fc\u30bf\u3092\u6c7a\u5b9a\u3059\u308b\u5fc5\u8981\u304c\u3042\u308a\u307e\u3059\u3002\n",
                "\u4e00\u65b9\u3067HUBO\u30bd\u30eb\u30d0\u30fc\u3092\u5229\u7528\u3059\u308c\u3070\u305d\u306e\u3088\u3046\u306a\u51e6\u7406\u306f\u4e0d\u8981\u306b\u306a\u308a\u3001\u5f97\u3089\u308c\u308b\u89e3\u3082(\u5c11\u306a\u304f\u3068\u3082\u4eca\u56de\u53d6\u308a\u6271\u3063\u305f\u30e2\u30c7\u30eb\u306b\u95a2\u3057\u3066\u306f)QUBO\u5909\u63db\u3092\u884c\u3046\u89e3\u6cd5\u3068\u540c\u7a0b\u5ea6\u4ee5\u4e0a\u306e\u89e3\u304c\u5f97\u3089\u308c\u308b\u3053\u3068\u304c\u5206\u304b\u308a\u307e\u3057\u305f\u3002"
            ]
        }
    ],
    "metadata": {
        "interpreter": {
            "hash": "26149c88d220c3ed2d17341f1c6f96caae4173defcdd371f100d436532ba42d1"
        },
        "kernelspec": {
            "display_name": "Python 3 (ipykernel)",
            "language": "python",
            "name": "python3"
        },
        "language_info": {
            "codemirror_mode": {
                "name": "ipython",
                "version": 3
            },
            "file_extension": ".py",
            "mimetype": "text/x-python",
            "name": "python",
            "nbconvert_exporter": "python",
            "pygments_lexer": "ipython3",
            "version": "3.9.7"
        }
    },
    "nbformat": 4,
    "nbformat_minor": 4
}