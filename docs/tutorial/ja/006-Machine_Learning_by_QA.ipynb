{
 "cells": [
  {
   "cell_type": "markdown",
   "metadata": {},
   "source": [
    "# 6-量子アニーリングによる機械学習 (QBoost)"
   ]
  },
  {
   "cell_type": "markdown",
   "metadata": {
    "colab_type": "text",
    "id": "view-in-github"
   },
   "source": [
    "[![Open in Colab](https://colab.research.google.com/assets/colab-badge.svg)](https://colab.research.google.com/github/OpenJij/OpenJijTutorial/blob/master/source/ja/006-Machine_Learning_by_QA.ipynb)"
   ]
  },
  {
   "cell_type": "markdown",
   "metadata": {},
   "source": [
    "このチュートリアルでは、量子アニーリングの最適化の応用の一例として機械学習を取り上げます。  \n",
    "前半では、PyQUBOとOpenjijを利用したクラスタリングを行います。  \n",
    "後半では、PyQUBOとD-Waveのサンプラーを用いたQboostというアンサンブル学習を行います。"
   ]
  },
  {
   "cell_type": "markdown",
   "metadata": {},
   "source": [
    "## クラスタリング\n",
    "\n",
    "クラスタリングとは与えられたデータを$n$個のクラスターに分けるというタスクです($n$は外部から与えられているとします)。簡単のため、今回はクラスター数が2を考えましょう。\n",
    "\n",
    "### 必要なライブラリのインポート\n",
    "\n",
    "機械学習のライブラリであるscikit-learnなどをインポートします。"
   ]
  },
  {
   "cell_type": "code",
   "execution_count": 1,
   "metadata": {},
   "outputs": [],
   "source": [
    "# ライブラリのインポート\n",
    "import numpy as np\n",
    "from matplotlib import pyplot as plt\n",
    "from sklearn import cluster\n",
    "import pandas as pd\n",
    "from scipy.spatial import distance_matrix \n",
    "from pyqubo import Array, Constraint, Placeholder, solve_qubo\n",
    "import openjij as oj\n",
    "from sklearn.model_selection import train_test_split"
   ]
  },
  {
   "cell_type": "markdown",
   "metadata": {},
   "source": [
    "### 人工データの生成\n",
    "\n",
    "今回は人工的に二次元平面上の明らかに線形分離可能なデータを生成しましょう。"
   ]
  },
  {
   "cell_type": "code",
   "execution_count": 2,
   "metadata": {},
   "outputs": [],
   "source": [
    "data = []\n",
    "label = []\n",
    "for i in range(100):\n",
    "    # [0, 1]の乱数を生成\n",
    "    p = np.random.uniform(0, 1)\n",
    "    # ある条件を満たすときをクラス1、満たさないときを-1\n",
    "    cls =1 if p>0.5 else -1\n",
    "    # ある座標を中心とする正規分布に従う乱数を作成\n",
    "    data.append(np.random.normal(0, 0.5, 2) + np.array([cls, cls]))\n",
    "    label.append(cls)\n",
    "# DataFrameとして整形\n",
    "df1 = pd.DataFrame(data, columns=[\"x\", \"y\"], index=range(len(data)))\n",
    "df1[\"label\"] = label"
   ]
  },
  {
   "cell_type": "code",
   "execution_count": 3,
   "metadata": {},
   "outputs": [
    {
     "data": {
      "image/png": "[encoded data removed]",
      "text/plain": [
       "<Figure size 432x288 with 1 Axes>"
      ]
     },
     "metadata": {
      "needs_background": "light"
     },
     "output_type": "display_data"
    }
   ],
   "source": [
    "# データセットの可視化\n",
    "df1.plot(kind='scatter', x=\"x\", y=\"y\")\n",
    "plt.show()"
   ]
  },
  {
   "cell_type": "markdown",
   "metadata": {},
   "source": [
    "今回は、以下のハミルトニアンを最小化することでクラスタリングを行います。\n",
    "\n",
    "$$\n",
    "H = - \\sum_{i, j} \\frac{1}{2}d_{i,j} (1 - \\sigma _i \\sigma_j)\n",
    "$$"
   ]
  },
  {
   "cell_type": "markdown",
   "metadata": {},
   "source": [
    "$i, j$はサンプルの番号、$d_{i,j}$は２つのサンプル間の距離、$\\sigma_i=\\{-1,1\\}$は２つのクラスターのどちらかに属しているかを表すスピン変数です。  \n",
    "このハミルトニアンの和の各項は   \n",
    "\n",
    "- $\\sigma_i  = \\sigma_j $のとき、0\n",
    "- $\\sigma_i  \\neq \\sigma_j $のとき、$d_{i,j}$  \n",
    "\n",
    "となります。右辺のマイナスに注意すると、ハミルトニアン全体では「異なるクラスに属しているサンプル同士の距離を最大にする$\\{\\sigma _1, \\sigma _2 \\ldots \\}$の組を選びなさい」という問題に帰着することがわかります。"
   ]
  },
  {
   "cell_type": "markdown",
   "metadata": {},
   "source": [
    "###  PyQUBOによるクラスタリング\n",
    "\n",
    "まずは、PyQUBOで上のハミルトニアンを定式化します。そして`solve_qubo`を用いてシミュレーテッドアニーリング(SA)を行います。"
   ]
  },
  {
   "cell_type": "code",
   "execution_count": 19,
   "metadata": {},
   "outputs": [],
   "source": [
    "def clustering_pyqubo(df):\n",
    "    # 距離行列の作成\n",
    "    d_ij = distance_matrix(df, df)\n",
    "    # スピン変数の設定\n",
    "    spin = Array.create(\"spin\", shape= len(df), vartype=\"SPIN\")\n",
    "    # 全ハミルトニアンの設定\n",
    "    H = - 0.5* sum(\n",
    "        [d_ij[i,j]* (1 - spin[i]* spin[j]) for i in range(len(df)) for j in range(len(df))]\n",
    "    )\n",
    "    # コンパイル\n",
    "    model = H.compile()\n",
    "    # QUBOに変換\n",
    "    qubo, offset = model.to_qubo()\n",
    "    # SAで解を求める\n",
    "    raw_solution = solve_qubo(qubo, num_reads=10)\n",
    "    # 解を見やすい形にデコード\n",
    "    decoded_sample = model.decode_sample(raw_solution, vartype=\"SPIN\")\n",
    "    # ラベルを抽出\n",
    "    labels = [decoded_sample.array(\"spin\", idx) for idx in range(len(df))]\n",
    "    return labels"
   ]
  },
  {
   "cell_type": "markdown",
   "metadata": {},
   "source": [
    "実行および解の確認を行います。"
   ]
  },
  {
   "cell_type": "code",
   "execution_count": 20,
   "metadata": {},
   "outputs": [
    {
     "name": "stdout",
     "output_type": "stream",
     "text": [
      "label [0, 0, 1, 0, 0, 0, 1, 0, 0, 0, 1, 0, 1, 1, 1, 0, 1, 1, 0, 1, 1, 0, 1, 1, 1, 1, 0, 1, 0, 1, 0, 0, 0, 0, 1, 1, 1, 1, 0, 1, 1, 1, 0, 0, 1, 0, 1, 1, 1, 0, 0, 1, 1, 1, 0, 0, 1, 1, 0, 0, 1, 1, 0, 1, 0, 1, 0, 0, 0, 0, 1, 0, 0, 1, 0, 0, 0, 0, 0, 1, 1, 0, 1, 0, 1, 0, 1, 0, 1, 1, 0, 1, 1, 1, 1, 1, 1, 0, 1, 0]\n"
     ]
    },
    {
     "name": "stderr",
     "output_type": "stream",
     "text": [
      "<ipython-input-19-42c386ac077c>:15: DeprecationWarning: Call to deprecated function (or staticmethod) solve_qubo. (You should use simulated annealing sampler of dwave-neal directly.) -- Deprecated since version 0.4.0.\n",
      "  raw_solution = solve_qubo(qubo, num_reads=10)\n"
     ]
    }
   ],
   "source": [
    "labels =clustering_pyqubo(df1[[\"x\", \"y\"]])\n",
    "print(\"label\", labels)"
   ]
  },
  {
   "cell_type": "markdown",
   "metadata": {},
   "source": [
    "可視化をしてみましょう。"
   ]
  },
  {
   "cell_type": "code",
   "execution_count": 21,
   "metadata": {},
   "outputs": [
    {
     "data": {
      "image/png": "[encoded data removed]",
      "text/plain": [
       "<Figure size 432x288 with 1 Axes>"
      ]
     },
     "metadata": {
      "needs_background": "light"
     },
     "output_type": "display_data"
    }
   ],
   "source": [
    "for idx, label in enumerate(labels):\n",
    "    if label:\n",
    "        plt.scatter(df1.loc[idx][\"x\"], df1.loc[idx][\"y\"], color=\"b\")  \n",
    "    else:\n",
    "        plt.scatter(df1.loc[idx][\"x\"], df1.loc[idx][\"y\"], color=\"r\")"
   ]
  },
  {
   "cell_type": "markdown",
   "metadata": {},
   "source": [
    "### Openjijのソルバーを用いたクラスタリング\n",
    "\n",
    "次はQUBOの定式化にPyQUBOを用いて、ソルバー部分をOpenJijにしてクラスタリングを行います。"
   ]
  },
  {
   "cell_type": "code",
   "execution_count": 26,
   "metadata": {},
   "outputs": [],
   "source": [
    "def clustering_openjij(df):\n",
    "    # 距離行列の作成\n",
    "    d_ij = distance_matrix(df, df)\n",
    "    # スピン変数の設定\n",
    "    spin = Array.create(\"spin\", shape= len(df), vartype=\"SPIN\")\n",
    "    # 全ハミルトニアンの設定\n",
    "    H = - 0.5* sum(\n",
    "        [d_ij[i,j]* (1 - spin[i]* spin[j]) for i in range(len(df)) for j in range(len(df))]\n",
    "    )\n",
    "    # コンパイル\n",
    "    model = H.compile()\n",
    "    # QUBOに変換\n",
    "    qubo, offset = model.to_qubo()\n",
    "    # OpenJijのSAをサンプラーに設定\n",
    "    sampler = oj.SASampler(num_reads=10, num_sweeps=100)\n",
    "    # サンプラーで解を求める\n",
    "    response = sampler.sample_qubo(qubo)\n",
    "    # 生データの抽出\n",
    "    raw_solution = dict(zip(response.indices, response.states[np.argmin(response.energies)]))\n",
    "    # 解を見やすい形にデコード\n",
    "    decoded_sample = model.decode_sample(raw_solution, vartype=\"SPIN\")\n",
    "    # ラベルを抽出\n",
    "    labels = [int(decoded_sample.array(\"spin\", idx) ) for idx  in range(len(df))]\n",
    "    return labels,  sum(response.energies)"
   ]
  },
  {
   "cell_type": "markdown",
   "metadata": {},
   "source": [
    "実行および解の確認を行います。"
   ]
  },
  {
   "cell_type": "code",
   "execution_count": 27,
   "metadata": {},
   "outputs": [
    {
     "name": "stdout",
     "output_type": "stream",
     "text": [
      "label [1, 1, 0, 1, 1, 1, 0, 1, 1, 1, 0, 1, 0, 0, 0, 1, 0, 0, 1, 0, 0, 1, 0, 0, 0, 0, 1, 0, 1, 0, 1, 1, 1, 1, 0, 0, 0, 0, 1, 0, 0, 0, 1, 1, 0, 1, 0, 0, 0, 1, 1, 0, 0, 0, 1, 1, 0, 0, 1, 1, 0, 0, 1, 0, 1, 0, 1, 1, 1, 1, 0, 1, 1, 0, 1, 1, 1, 1, 1, 0, 0, 1, 0, 1, 0, 1, 0, 1, 0, 0, 1, 0, 0, 0, 0, 0, 0, 1, 0, 1]\n",
      "energy -147945.96434710253\n"
     ]
    }
   ],
   "source": [
    "labels, energy =clustering_openjij(df1[[\"x\", \"y\"]])\n",
    "print(\"label\", labels)\n",
    "print(\"energy\", energy)"
   ]
  },
  {
   "cell_type": "markdown",
   "metadata": {},
   "source": [
    "こちらも、可視化をしてみましょう。"
   ]
  },
  {
   "cell_type": "code",
   "execution_count": 28,
   "metadata": {},
   "outputs": [
    {
     "data": {
      "image/png": "[encoded data removed]",
      "text/plain": [
       "<Figure size 432x288 with 1 Axes>"
      ]
     },
     "metadata": {
      "needs_background": "light"
     },
     "output_type": "display_data"
    }
   ],
   "source": [
    "for idx, label in  enumerate(labels):\n",
    "    if label:\n",
    "        plt.scatter(df1.loc[idx][\"x\"], df1.loc[idx][\"y\"], color=\"b\")  \n",
    "    else:\n",
    "        plt.scatter(df1.loc[idx][\"x\"], df1.loc[idx][\"y\"], color=\"r\")"
   ]
  },
  {
   "cell_type": "markdown",
   "metadata": {},
   "source": [
    "PyQUBOのSAのときと同様の結果を得ることができました。"
   ]
  },
  {
   "cell_type": "markdown",
   "metadata": {},
   "source": [
    "## QBoost\n",
    "\n",
    "QBoostは量子アニーリングを用いたアンサンブル学習の一つです。アンサンブル学習は弱い予測器を多数用意して、その予測器の各予測結果の組み合わせて最終的な予測結果を得ます。  \n",
    "QBoostでは、与えられた学習データに対して最適な学習器の組み合わせを、量子アニーリングを用いて最適化を行います。今回は分類問題を扱います。  \n",
    "\n",
    "$D$個の学習データの集合を$\\{\\vec x^{(d)}\\}(d=1, ..., D)$、対応するラベルを$\\{y^{(d)}\\}(d=1, ..., D), y^{(d)}\\in \\{-1, 1\\}$とします。また、$N$個の弱学習器の（関数の）集合を$\\{C_i\\}(i=1, ..., N)$とします。あるデータ$\\vec x^{(d)}$ に対して、$C_i(\\vec x^{(d)})\\in \\{-1, 1\\}$です。このとき、最終的な分類のラベルは以下のようになります。\n",
    "\n",
    "$${\\rm sgn}\\left( \\sum_{i=1}^{N} w_i C_i({\\vec x}^{(d)})\\right)$$\n",
    "\n",
    "ここで$w_i\\in\\{0, 1\\} (i=1, ..., N)$とします。これは各予測器の重み(予測器を最終的な予測に採用するか採用しないかのbool値)です。  \n",
    "QBoostではこの$w_i$を、弱学習器の個数を刈り込みつつ最終的な予測が教師データに一致するように組み合わせの最適化を行います。\n",
    "この問題におけるハミルトニアンは、以下のようになります。\n",
    "\n",
    "$$H(\\vec w) = \\sum_{d=1}^{D} \\left( \\frac{1}{N}\\sum_{i=1}^{N} w_i C_i(\\vec x^{(d)})-y^{(d)} \\right)^2 + \\lambda \\sum _i^N w_i$$\n",
    "\n",
    "このハミルトニアンの第一項目は、弱分類器と正解ラベルの差を表しています。第二項目は最終的な分類器に採用する弱分類器の個数の程度を表しています。$\\lambda$は第二項の弱分類器の個数がハミルトニアンにどのくらい影響するかを調節する正則化パラメータにです。  \n",
    "第一項をコスト(目的関数)、第二項を制約として、このハミルトニアンの最適化を行います。量子アニーリングで最小化することにより、学習データに最も適合するような弱分類器の組み合わせを得ることができます。"
   ]
  },
  {
   "cell_type": "markdown",
   "metadata": {},
   "source": [
    "### スクリプト\n",
    "\n",
    "それでは実際にQBoostを試してみましょう。学習データにはscikit-learnの癌識別のデータセットを使用します。簡単のために、学習に用いるのは\"0\"と\"1\"の２つの文字種のみとします。"
   ]
  },
  {
   "cell_type": "code",
   "execution_count": 30,
   "metadata": {},
   "outputs": [],
   "source": [
    "# ライブラリをインポート\n",
    "import pandas as pd \n",
    "from scipy import stats \n",
    "from sklearn import datasets\n",
    "from sklearn import metrics"
   ]
  },
  {
   "cell_type": "code",
   "execution_count": 31,
   "metadata": {},
   "outputs": [],
   "source": [
    "# データのロード\n",
    "cancerdata = datasets.load_breast_cancer()\n",
    "# 学習用データと検証用データの個数の設定\n",
    "num_train = 450"
   ]
  },
  {
   "cell_type": "markdown",
   "metadata": {},
   "source": [
    "今回はデモンストレーションのために、ノイズとなる特徴量がある場合を考えます。"
   ]
  },
  {
   "cell_type": "code",
   "execution_count": 32,
   "metadata": {},
   "outputs": [
    {
     "name": "stdout",
     "output_type": "stream",
     "text": [
      "(569, 60)\n"
     ]
    }
   ],
   "source": [
    "data_noisy = np.concatenate((cancerdata.data, np.random.rand(cancerdata.data.shape[0], 30)), axis=1)\n",
    "print(data_noisy.shape)"
   ]
  },
  {
   "cell_type": "code",
   "execution_count": 33,
   "metadata": {},
   "outputs": [],
   "source": [
    "# labelを{0, 1}から{-1, 1}に変換\n",
    "labels = (cancerdata.target-0.5) * 2"
   ]
  },
  {
   "cell_type": "code",
   "execution_count": 34,
   "metadata": {},
   "outputs": [],
   "source": [
    "# データセットを学習用と検証用に分割\n",
    "X_train = data_noisy[:num_train, :]\n",
    "X_test = data_noisy[num_train:, :]\n",
    "y_train = labels[:num_train]\n",
    "y_test = labels[num_train:]"
   ]
  },
  {
   "cell_type": "code",
   "execution_count": 35,
   "metadata": {},
   "outputs": [],
   "source": [
    "# 弱学習器の結果から\n",
    "def aggre_mean(Y_list):\n",
    "    return ((np.mean(Y_list, axis=0)>0)-0.5) * 2"
   ]
  },
  {
   "cell_type": "markdown",
   "metadata": {},
   "source": [
    "### 弱学習器の作成\n",
    "\n",
    "scikit-learnで弱分類器を作成します。今回は弱分類器としてdecision stumpを用いましょう。decision stumpとは、一層の決定木のことです。今回は弱分類器として用いるので、分割に用いる特徴量はランダムに選ぶこととします(一層のランダムフォレストを行うという理解で良いでしょう)。"
   ]
  },
  {
   "cell_type": "code",
   "execution_count": 36,
   "metadata": {},
   "outputs": [],
   "source": [
    "# 必要なライブラリのインポート\n",
    "from sklearn.tree import DecisionTreeClassifier as DTC\n",
    "\n",
    "# 弱分類機の個数の設定\n",
    "num_clf = 32\n",
    "# bootstrap samplingで、一つのサンプルに対して取り出すサンブル個数\n",
    "sample_train = 40\n",
    "# モデルの設定\n",
    "models = [DTC(splitter=\"random\",max_depth=1) for i in range(num_clf)]\n",
    "for model in models:\n",
    "    # ランダムに抽出\n",
    "    train_idx = np.random.choice(np.arange(X_train.shape[0]), sample_train)\n",
    "    # 説明変数と目的変数から決定木を作成\n",
    "    model.fit(X=X_train[train_idx], y=y_train[train_idx])\n",
    "y_pred_list_train = []\n",
    "for model in models:\n",
    "    # 作成したモデルを用いて予測を実行\n",
    "    y_pred_list_train.append(model.predict(X_train))\n",
    "y_pred_list_train = np.asanyarray(y_pred_list_train)\n",
    "y_pred_train =np.sign(y_pred_list_train)"
   ]
  },
  {
   "cell_type": "markdown",
   "metadata": {},
   "source": [
    "すべての弱学習器を最終的な分類器としたときの精度を見てみましょう。以後、この組み合わせをbaselineとします。"
   ]
  },
  {
   "cell_type": "code",
   "execution_count": 37,
   "metadata": {},
   "outputs": [
    {
     "name": "stdout",
     "output_type": "stream",
     "text": [
      "0.9327731092436975\n"
     ]
    }
   ],
   "source": [
    "y_pred_list_test = []\n",
    "for model in models:\n",
    "    # 検証データで実行\n",
    "    y_pred_list_test.append(model.predict(X_test))\n",
    "    \n",
    "y_pred_list_test = np.array(y_pred_list_test)\n",
    "y_pred_test = np.sign(np.sum(y_pred_list_test,axis=0))\n",
    "# 予測結果の精度のスコア計算\n",
    "acc_test_base = metrics.accuracy_score(y_true=y_test, y_pred=y_pred_test)\n",
    "print(acc_test_base)"
   ]
  },
  {
   "cell_type": "code",
   "execution_count": 38,
   "metadata": {},
   "outputs": [],
   "source": [
    "# QBoostを行うクラスを定義\n",
    "class QBoost():\n",
    "    def __init__(self, y_train, ys_pred):\n",
    "        self.num_clf = ys_pred.shape[0]\n",
    "        # バイナリ変数を定義\n",
    "        self.Ws = Array.create(\"weight\", shape = self.num_clf, vartype=\"BINARY\")\n",
    "        # 正規化項の大きさ(ハイパーパラメータ)をPyQUBOのPlaceholderで定義\n",
    "        self.param_lamda = Placeholder(\"norm\")\n",
    "        #　弱分類器の組み合わせのハミルトニアンをセット\n",
    "        self.H_clf = sum( [ (1/self.num_clf * sum([W*C for W, C in zip(self.Ws, y_clf)])- y_true)**2 for y_true, y_clf in zip(y_train, ys_pred.T)\n",
    "        ])\n",
    "        # 正規化項のハミルトニアンを制約としてセット\n",
    "        self.H_norm = Constraint(sum([W for W in self.Ws]), \"norm\")\n",
    "        # 全ハミルトニアンをセット\n",
    "        self.H = self.H_clf + self.H_norm * self.param_lamda\n",
    "        # モデルをコンパイル\n",
    "        self.model = self.H.compile()\n",
    "    # QUBOに変換する関数を定義\n",
    "    def to_qubo(self, norm_param=1):\n",
    "        # ハイパーパラメータの大きさを設定\n",
    "        self.feed_dict = {'norm': norm_param}\n",
    "        return self.model.to_qubo(feed_dict=self.feed_dict)"
   ]
  },
  {
   "cell_type": "code",
   "execution_count": 39,
   "metadata": {},
   "outputs": [],
   "source": [
    "qboost = QBoost(y_train=y_train, ys_pred=y_pred_list_train)\n",
    "# lambda=3としてQUBO作成\n",
    "qubo = qboost.to_qubo(3)[0]"
   ]
  },
  {
   "cell_type": "markdown",
   "metadata": {},
   "source": [
    "### D-Waveサンプラーを用いてQBoostを実行"
   ]
  },
  {
   "cell_type": "code",
   "execution_count": null,
   "metadata": {},
   "outputs": [],
   "source": [
    "# 必要なライブラリをインポート\n",
    "from dwave.system.samplers import DWaveSampler\n",
    "from dwave.system.composites import EmbeddingComposite"
   ]
  },
  {
   "cell_type": "code",
   "execution_count": null,
   "metadata": {},
   "outputs": [],
   "source": [
    "dw = DWaveSampler(endpoint='https://cloud.dwavesys.com/sapi/', \n",
    "                  token='xxxx', \n",
    "                  solver='DW_2000Q_VFYC_6')\n",
    "sampler = EmbeddingComposite(dw)"
   ]
  },
  {
   "cell_type": "code",
   "execution_count": null,
   "metadata": {},
   "outputs": [],
   "source": [
    "# D-Waveサンプラーで計算\n",
    "sampleset = sampler.sample_qubo(qubo, num_reads=100)"
   ]
  },
  {
   "cell_type": "code",
   "execution_count": null,
   "metadata": {},
   "outputs": [],
   "source": [
    "# 結果の確認\n",
    "print(sampleset)"
   ]
  },
  {
   "cell_type": "code",
   "execution_count": null,
   "metadata": {},
   "outputs": [],
   "source": [
    "# 各計算結果をPyQUBOでdecode\n",
    "decoded_solutions = []\n",
    "brokens = []\n",
    "energies =[]\n",
    "\n",
    "decoded_sol = qboost.model.decode_dimod_response(sampleset, feed_dict=qboost.feed_dict)\n",
    "for d_sol, broken, energy in decoded_sol:\n",
    "    decoded_solutions.append(d_sol)\n",
    "    brokens.append(broken)\n",
    "    energies.append(energy)"
   ]
  },
  {
   "cell_type": "markdown",
   "metadata": {},
   "source": [
    "D-Waveで得られた弱分類器の組み合わせを使った場合の、学習データ/検証データでの精度を確認しましょう。"
   ]
  },
  {
   "cell_type": "code",
   "execution_count": null,
   "metadata": {},
   "outputs": [],
   "source": [
    "accs_train_Dwaves = []\n",
    "accs_test_Dwaves = []\n",
    "for decoded_solution in decoded_solutions:\n",
    "    idx_clf_DWave=[]\n",
    "    for key, val in decoded_solution[\"weight\"].items():\n",
    "        if val == 1:\n",
    "            idx_clf_DWave.append(int(key))\n",
    "    y_pred_train_DWave = np.sign(np.sum(y_pred_list_train[idx_clf_DWave, :], axis=0))\n",
    "    y_pred_test_DWave = np.sign(np.sum(y_pred_list_test[idx_clf_DWave, :], axis=0))\n",
    "    acc_train_DWave = metrics.accuracy_score(y_true=y_train, y_pred=y_pred_train_DWave)\n",
    "    acc_test_DWave= metrics.accuracy_score(y_true=y_test, y_pred=y_pred_test_DWave)\n",
    "    accs_train_Dwaves.append(acc_train_DWave)\n",
    "    accs_test_Dwaves.append(acc_test_DWave)"
   ]
  },
  {
   "cell_type": "markdown",
   "metadata": {},
   "source": [
    "横軸をエネルギー、縦軸を精度のグラフを作成しましょう。"
   ]
  },
  {
   "cell_type": "code",
   "execution_count": null,
   "metadata": {},
   "outputs": [],
   "source": [
    "plt.figure(figsize=(12, 8))\n",
    "plt.scatter(energies, accs_train_Dwaves, label=\"train\" )\n",
    "plt.scatter(energies, accs_test_Dwaves, label=\"test\")\n",
    "plt.xlabel(\"energy: D-wave\")\n",
    "plt.ylabel(\"accuracy\")\n",
    "plt.title(\"relationship between energy and accuracy\")\n",
    "plt.grid()\n",
    "plt.legend()\n",
    "plt.show()"
   ]
  },
  {
   "cell_type": "code",
   "execution_count": null,
   "metadata": {},
   "outputs": [],
   "source": [
    "print(\"base accuracy is {}\".format(acc_test_base))\n",
    "print(\"max accuracy of QBoost is {}\".format(max(accs_test_Dwaves)))\n",
    "print(\"average accuracy of QBoost is {}\".format(np.mean(np.asarray(accs_test_Dwaves))))"
   ]
  },
  {
   "cell_type": "markdown",
   "metadata": {},
   "source": [
    "D-Waveによるサンプリングは短時間で数百サンプリング以上が実行できます。精度が最大になる結果を使えば、baselineよりも高精度の分類器を作成することが可能です。"
   ]
  }
 ],
 "metadata": {
  "kernelspec": {
   "display_name": "Python 3",
   "language": "python",
   "name": "python3"
  },
  "language_info": {
   "codemirror_mode": {
    "name": "ipython",
    "version": 3
   },
   "file_extension": ".py",
   "mimetype": "text/x-python",
   "name": "python",
   "nbconvert_exporter": "python",
   "pygments_lexer": "ipython3",
   "version": "3.9.3"
  }
 },
 "nbformat": 4,
 "nbformat_minor": 2
}
