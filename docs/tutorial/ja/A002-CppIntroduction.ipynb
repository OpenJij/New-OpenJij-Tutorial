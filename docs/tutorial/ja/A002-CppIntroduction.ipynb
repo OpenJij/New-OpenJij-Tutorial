{
    "cells": [
        {
            "cell_type": "markdown",
            "metadata": {},
            "source": [
                "# A2 - OpenJij core interface\u5165\u9580 (C++ interface)"
            ]
        },
        {
            "cell_type": "markdown",
            "metadata": {
                "colab_type": "text",
                "id": "view-in-github"
            },
            "source": [
                "[![Open in Colab](https://colab.research.google.com/assets/colab-badge.svg)](https://colab.research.google.com/github/OpenJij/OpenJijTutorial/blob/master/source/ja/A002-CppIntroduction.ipynb)"
            ]
        },
        {
            "cell_type": "markdown",
            "metadata": {},
            "source": [
                "\u3053\u306e\u7ae0\u3067\u306fOpenJij\u306ecore interface (C++ interface)\u3092\u3054\u7d39\u4ecb\u3057\u307e\u3059\u3002core Python interface\u306e\u307f\u3092\u53d6\u308a\u6271\u3044\u305f\u3044\u65b9\u306f\u3053\u306e\u7ae0\u3092\u30b9\u30ad\u30c3\u30d7\u3057\u3066\u3082\u554f\u984c\u3042\u308a\u307e\u305b\u3093\u3002\n",
                "\n",
                "C++ interface\u306fOpenJij\u306e\u6700\u4e0b\u5c64\u30ec\u30a4\u30e4\u30fc\u306eAPI\u3067\u3059\u3002core Python interface\u3082\u5185\u90e8\u3067\u3053\u306eC++ interface\u3092\u8aad\u307f\u51fa\u3057\u3066\u3044\u307e\u3059\u3002\n",
                "Python\u3092\u4f7f\u308f\u305a\u306bC++\u306e\u307f\u3092\u7528\u3044\u3066OpenJij\u306e\u30d1\u30d5\u30a9\u30fc\u30de\u30f3\u30b9\u3092\u6700\u5927\u9650\u306b\u5f15\u304d\u51fa\u3057\u305f\u3044\u7528\u9014\u3067\u4f7f\u3046\u3053\u3068\u304c\u3067\u304d\u307e\u3059\u3002\n",
                "\n",
                "\n",
                "## \u554f\u984c\u3092\u6295\u3052\u308b\n",
                "\n",
                "\u307e\u305a\u306fgithub\u304b\u3089\u30ea\u30dd\u30b8\u30c8\u30ea\u3092clone\u3057\u307e\u3057\u3087\u3046\n",
                "\n",
                "```sh\n",
                "$ git clone https://github.com/OpenJij/OpenJij\n",
                "$ cd OpenJij\n",
                "```\n",
                "\n",
                "OpenJij\u306f\u57fa\u672c\u7684\u306b\u30d8\u30c3\u30c0\u30aa\u30f3\u30ea\u30fc\u306a\u30e9\u30a4\u30d6\u30e9\u30ea\u3067\u3059\u3002\u3088\u3063\u3066`src`\u30c7\u30a3\u30ec\u30af\u30c8\u30ea\u306e\u30d1\u30b9\u3092\u30b3\u30f3\u30d1\u30a4\u30eb\u6642\u306b\u6307\u5b9a\u3059\u308b\u3060\u3051\u3067C++ interface\u304c\u4f7f\u3048\u308b\u3088\u3046\u306b\u306a\u308a\u307e\u3059\u3002  \n",
                "GPU\u30a2\u30eb\u30b4\u30ea\u30ba\u30e0\u7b49\u3092\u4f7f\u3046\u969b\u306b\u306f\u30e9\u30a4\u30d6\u30e9\u30ea\u3092CMake\u3067\u30d3\u30eb\u30c9\u3059\u308b\u5fc5\u8981\u304c\u3042\u308a\u307e\u3059\u3002`build_gcc.sh`\u3092\u5b9f\u884c\u3059\u308b\u3068\u81ea\u52d5\u3067\u30d3\u30eb\u30c9\u3092\u884c\u3046\u3053\u3068\u304c\u3067\u304d\u307e\u3059\u3002\n",
                "\n",
                "\u524d\u7ae0\u306ePython interface\u3068\u5168\u304f\u540c\u3058\u52d5\u4f5c\u3092\u3059\u308b\u30b3\u30fc\u30c9\u306f\u3001\n",
                "\u6b21\u306e\u3088\u3046\u306b\u66f8\u304f\u3053\u3068\u304c\u3067\u304d\u307e\u3059(`project_template/template.cpp`\u306b\u540c\u3058\u8a18\u8ff0\u304c\u3042\u308a\u307e\u3059)\u3002"
            ]
        },
        {
            "cell_type": "markdown",
            "metadata": {},
            "source": [
                "```cpp\n",
                "#include <graph/all.hpp>\n",
                "#include <system/all.hpp>\n",
                "#include <updater/all.hpp>\n",
                "#include <algorithm/all.hpp>\n",
                "#include <result/all.hpp>\n",
                "#include <utility/schedule_list.hpp>\n",
                "#include <random>\n",
                "\n",
                "#include <iostream>\n",
                "\n",
                "using namespace openjij;\n",
                "\n",
                "int main(void){\n",
                "\n",
                "    //\u307e\u305a\u76f8\u4e92\u4f5c\u7528\u884c\u5217\u3092\u4f5c\u6210\u3057\u307e\u3059\u3002Graph\u30e2\u30b8\u30e5\u30fc\u30eb\u3092\u4f7f\u3044\u307e\u3059\u3002\n",
                "    //\u554f\u984c\u30b5\u30a4\u30baN=5\u306e\u5bc6\u7d50\u5408\u30b0\u30e9\u30d5(Dense)\u3092\u5b9a\u7fa9\u3057\u307e\u3059\u3002\n",
                "    constexpr std::size_t N = 5;\n",
                "    auto dense = graph::Dense<double>(N);\n",
                "\n",
                "    //\u76f8\u4e92\u4f5c\u7528\u3092\u8a2d\u5b9a\u3057\u307e\u3059\u3002\n",
                "    for(std::size_t i=0; i<N; i++){\n",
                "        for(std::size_t j=0; j<N; j++){\n",
                "            dense.J(i, j) = (i == j) ? 0 : -1;\n",
                "        }\n",
                "    }\n",
                "\n",
                "    //\u7e26\u78c1\u5834\u3092\u8a2d\u5b9a\u3057\u307e\u3059\u3002\n",
                "    for(std::size_t i=0; i<N; i++){\n",
                "        dense.h(i) = -1;\n",
                "    }\n",
                "\n",
                "    //\u4e71\u6570\u751f\u6210\u5668(\u30e1\u30eb\u30bb\u30f3\u30cc\u30fb\u30c4\u30a4\u30b9\u30bf\u30fc)\u3092\u5b9a\u7fa9\u3057\u307e\u3059\u3002\n",
                "    auto rand_engine = std::mt19937(0x1234);\n",
                "\n",
                "    //\u6b21\u306bGraph\u304b\u3089\u8a08\u7b97\u3092\u884c\u3046\u305f\u3081\u306eSystem\u3092\u4f5c\u6210\u3057\u307e\u3059\u3002\n",
                "    //\u4eca\u56de\u306f\u901a\u5e38\u306e\u53e4\u5178\u30e2\u30f3\u30c6\u30ab\u30eb\u30ed\u8a08\u7b97\u306e\u30b7\u30b9\u30c6\u30e0\u3092\u4f7f\u7528\u3057\u307e\u3059\u3002\n",
                "    auto system = system::make_classical_ising(dense.gen_spin(rand_engine), dense);\n",
                "\n",
                "    //\u30a2\u30cb\u30fc\u30ea\u30f3\u30b0\u30b9\u30b1\u30b8\u30e5\u30fc\u30eb\u3092\u8a2d\u5b9a\u3057\u307e\u3059\u3002Utility\u30e2\u30b8\u30e5\u30fc\u30eb\u3092\u4f7f\u7528\u3057\u307e\u3059\u3002\n",
                "    auto schedule_list = utility::make_classical_schedule_list(0.1, 100, 10, 10);\n",
                "\n",
                "    //\u5b9f\u969b\u306b\u30a2\u30cb\u30fc\u30ea\u30f3\u30b0\u3092\u5b9f\u884c\u3057\u307e\u3059\u3002Algorithm\u30e2\u30b8\u30e5\u30fc\u30eb\u3092\u4f7f\u7528\u3057\u307e\u3059\u3002\n",
                "    //\u30e2\u30f3\u30c6\u30ab\u30eb\u30ed\u30b9\u30c6\u30c3\u30d7\u306e\u66f4\u65b0\u65b9\u6cd5\u3068\u3057\u3066\u5358\u7d14\u306aSingleSpinFlip\u3092\u7528\u3044\u307e\u3059\u3002\n",
                "    algorithm::Algorithm<updater::SingleSpinFlip>::run(system, rand_engine, schedule_list);\n",
                "\n",
                "    //\u7d50\u679c\u3092\u53d6\u5f97\u3057\u307e\u3059\u3002\n",
                "    std::cout << \"The result spins are [\";\n",
                "    for(auto&& elem : result::get_solution(system)){\n",
                "        std::cout << elem << \" \";\n",
                "    }\n",
                "\n",
                "    std::cout << \"]\" << std::endl;\n",
                "}\n",
                "```"
            ]
        },
        {
            "cell_type": "markdown",
            "metadata": {},
            "source": [
                "`project_template`\u5185\u3067`make`\u3092\u5b9f\u884c\u3057\u3001`./tutorial`\u3092\u5b9f\u884c\u3057\u307e\u3059\u3002\u3059\u308b\u3068\u540c\u3058\u3088\u3046\u306b$[1,1,1,1,1]$ \u304c\u89e3\u3068\u3057\u3066\u51fa\u529b\u3055\u308c\u308b\u306e\u304c\u308f\u304b\u308a\u307e\u3059\u3002\n",
                "\u30b3\u30f3\u30d1\u30a4\u30eb\u30aa\u30d7\u30b7\u30e7\u30f3\u306a\u3069\u306e\u8a73\u7d30\u306b\u3064\u3044\u3066\u306f\u3001`project_template`\u5185\u306e`Makefile`\u3092\u53c2\u8003\u306b\u3057\u3066\u304f\u3060\u3055\u3044\u3002\u7279\u306bGPU\u3092\u7528\u3044\u305f\u30a2\u30eb\u30b4\u30ea\u30ba\u30e0\u3092\u5229\u7528\u3059\u308b\u969b\u306b\u306f`build_gcc.sh`\u3067\u30d3\u30eb\u30c9\u3057\u305fCUDA\u30e9\u30a4\u30d6\u30e9\u30ea\u3092\u30ea\u30f3\u30af\u3059\u308b\u5fc5\u8981\u304c\u3042\u308a\u307e\u3059\u306e\u3067\u6ce8\u610f\u3057\u3066\u304f\u3060\u3055\u3044\u3002\n",
                "\n",
                "\u524d\u7ae0\u306ecore Python interface\u306e\u30b5\u30f3\u30d7\u30eb\u30b3\u30fc\u30c9\u3068\u898b\u6bd4\u3079\u308b\u3068\u5206\u304b\u308b\u3088\u3046\u306b\u3001Python\u30a4\u30f3\u30bf\u30fc\u30d5\u30a7\u30fc\u30b9\u3068\u307b\u307c\u540c\u3058\u3088\u3046\u306b\u8a18\u8ff0\u3059\u308b\u3053\u3068\u304c\u53ef\u80fd\u3067\u3059\u3002"
            ]
        },
        {
            "cell_type": "code",
            "execution_count": null,
            "metadata": {},
            "outputs": [],
            "source": []
        }
    ],
    "metadata": {
        "kernelspec": {
            "display_name": "Python 3",
            "language": "python",
            "name": "python3"
        },
        "language_info": {
            "codemirror_mode": {
                "name": "ipython",
                "version": 3
            },
            "file_extension": ".py",
            "mimetype": "text/x-python",
            "name": "python",
            "nbconvert_exporter": "python",
            "pygments_lexer": "ipython3",
            "version": "3.8.5"
        }
    },
    "nbformat": 4,
    "nbformat_minor": 4
}