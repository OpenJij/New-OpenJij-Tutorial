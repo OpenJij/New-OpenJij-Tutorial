{
 "cells": [
  {
   "cell_type": "markdown",
   "metadata": {},
   "source": [
    "# A3 - Classical ising model"
   ]
  },
  {
   "cell_type": "markdown",
   "metadata": {
    "colab_type": "text",
    "id": "view-in-github"
   },
   "source": [
    "[![Open in Colab](https://colab.research.google.com/assets/colab-badge.svg)](https://colab.research.google.com/github/OpenJij/OpenJijTutorial/blob/master/source/en/A003-LargeScaleMC.ipynb)"
   ]
  },
  {
   "cell_type": "markdown",
   "metadata": {},
   "source": [
    "In this section, we explain how to use core interface (core Python interface) of OpenJij and demonstrate simple calculation.\n",
    "\n",
    "Core interface is lower layer API than tutorials in previous section. It is assumed that the target reader has done though the previous OpenJij tutorials and is familiar with terms such as ising models and MonteCarlo methods.\n",
    "\n",
    "We envision a readership with the following objectives.\n",
    "\n",
    "* want to use OpenJij not only for optimization problem but also for more specialized application such as sampling and reserach activity.\n",
    "* want to set annealing schedules and directly improve the algorithms used."
   ]
  },
  {
   "cell_type": "code",
   "execution_count": 1,
   "metadata": {},
   "outputs": [],
   "source": [
    "import cxxjij.graph as G\n",
    "# set problem size N = 100\n",
    "N = 100\n",
    "\n",
    "graph = G.Dense(N)\n",
    "# for sparse, use the following\n",
    "#graph = G.Sparse(N)"
   ]
  },
  {
   "cell_type": "markdown",
   "metadata": {},
   "source": [
    "We set $J_{ij}, h_i$. In this time, we set the value generated from the Gauss distribution with a mean of 0 and a standard deviation of 1."
   ]
  },
  {
   "cell_type": "code",
   "execution_count": null,
   "metadata": {},
   "outputs": [],
   "source": [
    "!pip install numpy # use numpy for random number generation"
   ]
  },
  {
   "cell_type": "code",
   "execution_count": 3,
   "metadata": {},
   "outputs": [],
   "source": [
    "import numpy as np\n",
    "mu, sigma = 0, 1\n",
    "\n",
    "for i in range(N):\n",
    "    for j in range(N):\n",
    "        # to avoid a large Jij value, normalize in 1/N\n",
    "        graph[i,j] = 0 if i == j else np.random.normal()/N\n",
    "\n",
    "for i in range(N):\n",
    "    graph[i] = np.random.normal()/N"
   ]
  },
  {
   "cell_type": "markdown",
   "metadata": {},
   "source": [
    "For longitudinal magnetic fields, both `graph[i]` and `graph[i,i]` can be used to access it. In addition, by definition of ising model, $J_{ij}$ and $J_{ji}$ are automatically the same value. Let us try output as follows."
   ]
  },
  {
   "cell_type": "code",
   "execution_count": 4,
   "metadata": {},
   "outputs": [
    {
     "name": "stdout",
     "output_type": "stream",
     "text": [
      "0.5\n",
      "0.5\n",
      "-0.6\n",
      "-0.6\n"
     ]
    }
   ],
   "source": [
    "graph[20] = 0.5\n",
    "print(graph[20,20])\n",
    "print(graph[20])\n",
    "graph[12,34] = -0.6\n",
    "print(graph[12,34])\n",
    "print(graph[34,12])"
   ]
  },
  {
   "cell_type": "markdown",
   "metadata": {},
   "source": [
    "## Set System\n",
    "\n",
    "Next, we define system for calculation. We can choose classcal ising model or transverse magnetic field ising model or other models.\n",
    "\n",
    "In order to create system of classical ising model, we choose `system.make_classical_ising`."
   ]
  },
  {
   "cell_type": "code",
   "execution_count": 5,
   "metadata": {},
   "outputs": [],
   "source": [
    "import cxxjij.system as S\n",
    "\n",
    "mysystem = S.make_classical_ising(graph.gen_spin(), graph)"
   ]
  },
  {
   "cell_type": "markdown",
   "metadata": {},
   "source": [
    "The first argument is randomly generated spins, and the second is the Graph. We can make a system of classical ising model with an initial spin configuration of `graph.gen_spin`. \n",
    "\n",
    "We can access system directly and can read values."
   ]
  },
  {
   "cell_type": "code",
   "execution_count": 6,
   "metadata": {},
   "outputs": [
    {
     "name": "stdout",
     "output_type": "stream",
     "text": [
      "[ 1. -1.  1.  1. -1.  1.  1.  1. -1. -1. -1. -1.  1. -1.  1.  1. -1. -1.\n",
      " -1. -1. -1.  1. -1. -1.  1. -1.  1.  1. -1.  1.  1. -1.  1. -1. -1. -1.\n",
      " -1.  1. -1.  1. -1. -1. -1.  1.  1.  1.  1. -1.  1. -1. -1.  1.  1.  1.\n",
      " -1.  1. -1.  1. -1. -1.  1.  1.  1.  1.  1. -1.  1.  1.  1. -1.  1.  1.\n",
      " -1. -1.  1. -1. -1.  1. -1. -1. -1. -1.  1.  1.  1.  1. -1. -1. -1.  1.\n",
      "  1.  1. -1. -1.  1. -1. -1. -1.  1. -1.  1.]\n"
     ]
    }
   ],
   "source": [
    "print(mysystem.spin)"
   ]
  },
  {
   "cell_type": "markdown",
   "metadata": {},
   "source": [
    "Various other systems including classcal ising models are available, which can be used for different purpose. A method of initialization differs slightly depending on the system to be used. We will introduce this later.\n",
    "\n",
    "## Run algorithms -Updater, Algorithm-\n",
    "\n",
    "After definition of System, we choose Updater and run Algorithm.\n",
    "\n",
    "### Updater\n",
    "\n",
    "There are certain updaters that can be used for the System. There are two main Updater for classical ising model, \n",
    "\n",
    "- [SingleSpinFlip](https://github.com/OpenJij/OpenJij/blob/ec41aecfbac7e4c895e1e7a1718f06eb7ffae0ba/src/updater/single_spin_flip.hpp#L40) (Update one spin at a time using the Metropilis Hastings method)\n",
    "- [SwendsenWang](https://github.com/OpenJij/OpenJij/blob/ec41aecfbac7e4c895e1e7a1718f06eb7ffae0ba/src/updater/swendsen_wang.hpp#L45) (Cluster update scheme using SwendsenWang method)\n",
    "\n",
    "### Algorithm\n",
    "\n",
    "Algorithm needs a **schedule list** to be executed. First, we begin with making schedule list.\n",
    "\n",
    "#### Schedule list\n",
    "\n",
    "Schedule list is a list of `(parameters, the number of MonteCarlo steps)`. The value you enter in the parameter part depends on the system. For example, in the case of classical ising model, parameter is the inverse of the temperature, $\\beta$. Let's take a look at the settings as follows."
   ]
  },
  {
   "cell_type": "code",
   "execution_count": 7,
   "metadata": {},
   "outputs": [],
   "source": [
    "schedule_list = [(0.01, 10),(10, 80),(0.1, 30)]"
   ]
  },
  {
   "cell_type": "markdown",
   "metadata": {},
   "source": [
    "In above setting, 10 MonteCarlo steps at an inverse temperature $\\beta=0.01$, 80 steps at $\\beta=10$, 30 steps at $\\beta=0.1$, for total of 120 MonteCarlo steps.\n",
    "Since the inverse temperature is often increased by the geometric series, it is more convenient to use `make_classical_schedule_list` in `utility` as follows."
   ]
  },
  {
   "cell_type": "code",
   "execution_count": 8,
   "metadata": {},
   "outputs": [
    {
     "name": "stdout",
     "output_type": "stream",
     "text": [
      "[((beta: 0.100000) mcs: 20), ((beta: 0.199474) mcs: 20), ((beta: 0.397897) mcs: 20), ((beta: 0.793701) mcs: 20), ((beta: 1.583223) mcs: 20), ((beta: 3.158114) mcs: 20), ((beta: 6.299605) mcs: 20), ((beta: 12.566053) mcs: 20), ((beta: 25.065966) mcs: 20), ((beta: 50.000000) mcs: 20)]\n"
     ]
    }
   ],
   "source": [
    "import cxxjij.utility as U\n",
    "schedule_list = U.make_classical_schedule_list(0.1, 50, 20, 10)\n",
    "print(schedule_list)"
   ]
  },
  {
   "cell_type": "markdown",
   "metadata": {},
   "source": [
    "In above example, we set calculations are performed in 20 steps each, varying the temperature in 10 steps from $\\beta=0.1$ to $\\beta=50$.\n",
    "\n",
    "#### Run Algorithm\n",
    "\n",
    "Next, we run Algorithm. By writing `Algorithm_[Updater]_run`, the calculation is performed in the specified Updater. The following example shows SingleSpinFlip."
   ]
  },
  {
   "cell_type": "code",
   "execution_count": 9,
   "metadata": {},
   "outputs": [],
   "source": [
    "import cxxjij.algorithm as A\n",
    "A.Algorithm_SingleSpinFlip_run(mysystem, schedule_list)"
   ]
  },
  {
   "cell_type": "markdown",
   "metadata": {},
   "source": [
    "The process took an instant but a total of 200 MonteCarlo steps were computed during this time.\n",
    "\n",
    "> `A.Algorithm_SingleSpinFlip_run(mysystem, seed, schedule_list)`, we can keep the seed fixed. It can be used when we want our results to be reproducible."
   ]
  },
  {
   "cell_type": "markdown",
   "metadata": {},
   "source": [
    "We can use callback to get the system at every single MonteCarlo step during Algorithm execution. In the case of classical ising model, we just need to create a funciton with a system and a parameter (inverse temperature) as arguments.\n",
    "\n",
    "The following example shows callback which record energy values."
   ]
  },
  {
   "cell_type": "code",
   "execution_count": 10,
   "metadata": {},
   "outputs": [],
   "source": [
    "energies = []\n",
    "\n",
    "def callback_log_energy(system, beta):\n",
    "    # graph is defined in Graphe module before\n",
    "    energies.append(graph.calc_energy(system.spin))"
   ]
  },
  {
   "cell_type": "markdown",
   "metadata": {},
   "source": [
    "We execute same Algorithm with this callback."
   ]
  },
  {
   "cell_type": "code",
   "execution_count": 11,
   "metadata": {},
   "outputs": [],
   "source": [
    "# we take long schedule (a total of 20000 MonteCarlo step)\n",
    "schedule_list = U.make_classical_schedule_list(0.1, 50, 200, 100)\n",
    "A.Algorithm_SingleSpinFlip_run(mysystem, schedule_list, callback_log_energy)"
   ]
  },
  {
   "cell_type": "markdown",
   "metadata": {},
   "source": [
    "Let us make the energy of the recorded system with MonteCarlo steps on x-axis, and energy on y-axis, we get following figure."
   ]
  },
  {
   "cell_type": "code",
   "execution_count": null,
   "metadata": {},
   "outputs": [],
   "source": [
    "!pip install matplotlib"
   ]
  },
  {
   "cell_type": "code",
   "execution_count": 12,
   "metadata": {},
   "outputs": [
    {
     "data": {
      "image/png": "[encoded data removed]",
      "text/plain": [
       "<Figure size 432x288 with 1 Axes>"
      ]
     },
     "metadata": {
      "needs_background": "light"
     },
     "output_type": "display_data"
    }
   ],
   "source": [
    "%matplotlib inline\n",
    "import matplotlib.pyplot as plt\n",
    "plt.plot(range(len(energies)), energies)\n",
    "plt.xlabel('Monte Carlo step')\n",
    "plt.ylabel('energy')\n",
    "plt.show()"
   ]
  },
  {
   "cell_type": "markdown",
   "metadata": {},
   "source": [
    "We can see that the energy is gradually getting lower and lower as the annealing progresses. It is useful when we want to know how to system looks like while Algorighm is running.\n",
    "\n",
    "## Get result -Result-\n",
    "\n",
    "We get spin sequence of calculation result using `result.get_solution`. In the case of classical ising model, we get it from `mysystem.spin` directly. However, `result.get_solution` is a useful method to get spin sequence from other systems."
   ]
  },
  {
   "cell_type": "code",
   "execution_count": 13,
   "metadata": {},
   "outputs": [
    {
     "name": "stdout",
     "output_type": "stream",
     "text": [
      "[1, -1, 1, 1, 1, -1, 1, 1, 1, 1, 1, 1, 1, -1, -1, -1, -1, -1, -1, -1, -1, -1, -1, -1, -1, 1, 1, 1, -1, 1, -1, 1, 1, 1, 1, 1, -1, 1, -1, 1, -1, -1, -1, 1, 1, 1, 1, -1, 1, 1, 1, 1, 1, -1, -1, -1, -1, 1, 1, -1, -1, 1, 1, -1, -1, 1, 1, 1, 1, -1, -1, -1, 1, -1, -1, -1, 1, -1, -1, -1, 1, -1, -1, 1, 1, 1, -1, 1, 1, -1, -1, -1, -1, -1, 1, -1, 1, -1, 1, 1]\n"
     ]
    }
   ],
   "source": [
    "import cxxjij.result as R\n",
    "print(R.get_solution(mysystem))"
   ]
  },
  {
   "cell_type": "markdown",
   "metadata": {},
   "source": [
    "This sequence is result of execution. It is expected to be in Hamiltonian groud state (or close to ground state)"
   ]
  },
  {
   "cell_type": "markdown",
   "metadata": {},
   "source": [
    "## C++ core interface\n",
    "\n",
    "We can do almost the same things with C++ core interface as above, with a few differences. We note two points the following. \n",
    "\n",
    "- need to input random number generator (C++11 random) to argument of seed.\n",
    "- in the Graph class, the access to $J_{ij}, h_i$ is slightly different.\n",
    "\n",
    "The content so far can be described in C++ core interface as follows."
   ]
  },
  {
   "cell_type": "markdown",
   "metadata": {},
   "source": [
    "```cpp\n",
    "#include <graph/all.hpp>\n",
    "#include <system/all.hpp>\n",
    "#include <updater/all.hpp>\n",
    "#include <algorithm/all.hpp>\n",
    "#include <result/all.hpp>\n",
    "#include <utility/schedule_list.hpp>\n",
    "#include <utility/random.hpp>\n",
    "#include <random>\n",
    "\n",
    "#include <iostream>\n",
    "\n",
    "using namespace openjij;\n",
    "\n",
    "int main(void){\n",
    "\n",
    "    //generate dense graph with size N=100\n",
    "    constexpr std::size_t N = 100;\n",
    "    auto dense = graph::Dense<double>(N);\n",
    "\n",
    "    //generate random engine\n",
    "    auto rand_engine = std::mt19937(0x1234);\n",
    "    //of course you can specify another random generator that is compatible with C++ random generator, say utility::Xorshift,\n",
    "    //auto rand_engine = utility::Xorshift(0x1234);\n",
    "    \n",
    "    //Gaussian distribution\n",
    "    auto gauss = std::normal_distribution<>{0, 1};\n",
    "\n",
    "    //set interactions\n",
    "    for(std::size_t i=0; i<N; i++){\n",
    "        for(std::size_t j=0; j<N; j++){\n",
    "            dense.J(i, j) = (i == j) ? 0 : gauss(rand_engine)/N;\n",
    "        }\n",
    "    }\n",
    "\n",
    "    //set local fields\n",
    "    for(std::size_t i=0; i<N; i++){\n",
    "        dense.h(i) = gauss(rand_engine);\n",
    "    }\n",
    "\n",
    "    //create classical Ising system\n",
    "    auto system = system::make_classical_ising(dense.gen_spin(rand_engine), dense);\n",
    "\n",
    "    //generate schedule list\n",
    "    //from beta=0.1 to beta=50, 20 Monte Carlo step for each tempearature, 10 samples\n",
    "    auto schedule_list = utility::make_classical_schedule_list(0.1, 50, 20, 10);\n",
    "\n",
    "    //or in the case of classical system, you can specify arbitrary schedules by using a std::vector of utility::Schedule<system::classical_system>\n",
    "    //std::vector<utility::Schedule<system::classical_system>> schedule_list;\n",
    "    //utility::Schedule<system::classical_system> schedule;\n",
    "    //schedule.updater_parameter = {0.01};\n",
    "    //schedule.one_mc_step = 10; //number of Monte Carlo step per temperature\n",
    "    //schedule_list.push_back(schedule);\n",
    "    //\n",
    "    //schedule.updater_parameter = {10};\n",
    "    //schedule.one_mc_step = 80; //number of Monte Carlo step per temperature\n",
    "    //schedule_list.push_back(schedule);\n",
    "    //\n",
    "    //schedule.updater_parameter = {0.1};\n",
    "    //schedule.one_mc_step = 30; //number of Monte Carlo step per temperature\n",
    "    //schedule_list.push_back(schedule); //schedule_list -> [(0.01, 10), (10, 80), (0.1, 30)]\n",
    "\n",
    "\n",
    "    //do annealing (updater: SingleSpinFlip)\n",
    "    algorithm::Algorithm<updater::SingleSpinFlip>::run(system, rand_engine, schedule_list);\n",
    "\n",
    "    //show spins\n",
    "    std::cout << \"The result spins are [\";\n",
    "    for(auto&& elem : result::get_solution(system)){\n",
    "        std::cout << elem << \" \";\n",
    "    }\n",
    "\n",
    "    std::cout << \"]\" << std::endl;\n",
    "}\n",
    "\n",
    "```"
   ]
  }
 ],
 "metadata": {
  "kernelspec": {
   "display_name": "Python 3",
   "language": "python",
   "name": "python3"
  },
  "language_info": {
   "codemirror_mode": {
    "name": "ipython",
    "version": 3
   },
   "file_extension": ".py",
   "mimetype": "text/x-python",
   "name": "python",
   "nbconvert_exporter": "python",
   "pygments_lexer": "ipython3",
   "version": "3.9.3"
  }
 },
 "nbformat": 4,
 "nbformat_minor": 4
}
