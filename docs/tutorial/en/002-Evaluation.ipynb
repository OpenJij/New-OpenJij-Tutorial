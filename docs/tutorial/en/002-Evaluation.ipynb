{
 "cells": [
  {
   "cell_type": "markdown",
   "metadata": {
    "colab_type": "text",
    "id": "V_NR6GiIBDP2"
   },
   "source": [
    "# 2-An Evaluation of Annealing Algorithms"
   ]
  },
  {
   "cell_type": "markdown",
   "metadata": {
    "colab_type": "text",
    "id": "view-in-github"
   },
   "source": [
    "[![Open in Colab](https://colab.research.google.com/assets/colab-badge.svg)](https://colab.research.google.com/github/OpenJij/OpenJijTutorial/blob/master/source/en/002-Evaluation.ipynb)"
   ]
  },
  {
   "cell_type": "markdown",
   "metadata": {
    "colab_type": "text",
    "id": "FbP_6wGgBDP6"
   },
   "source": [
    "Annealing algorithms are heuristics, so it may not be able to give an optimal solution every time. These are algorithms for approximate solutions. In addition, these are probabilistic algorithm and solutions are also different each time. Therefore, when we evaluate them, we use various averages to evaluate these solution.\n",
    "\n",
    "The three following indicators are often used.\n",
    "\n",
    "- Success probability\n",
    "- TTS : Time to solution\n",
    "- Resudial energy\n",
    "\n",
    "In particular, **TTS** is a measure of computation time and is often used in various evaluations. A Residual energy is an average value of how close to an optimal solution we got."
   ]
  },
  {
   "cell_type": "markdown",
   "metadata": {
    "colab_type": "text",
    "id": "av11BMPjBDP8"
   },
   "source": [
    "## Time to solution\n",
    "\n",
    "An annealing algorithm can produce some kind of solution at any computation time. However even if the calculation is fast, it is useless if it gives wrong answers. We set an index (e.g., the time it takes to get the optimal solution with 90% probability) for the computation time it takes for the optimal solution to be calculated with the probability we need.\n",
    "\n",
    "As shown in the previous chapter, an annealing algorithm looks for the optimal solution from among multiple runs, therefore multiple runs should be taken into account to evaluate the computation time.\n",
    "\n",
    "A Time to Solution (TTS) is computed by taking into account the multiple annealing process.\n",
    "\n",
    "We can easily lead TTS as follows."
   ]
  },
  {
   "cell_type": "markdown",
   "metadata": {
    "colab_type": "text",
    "id": "kqwBOHdVBDP9"
   },
   "source": [
    "One annealing time is defined as $\\tau$. Let the probability of calculating the optimal solution in one annealing session be $p_s(\\tau)$. $p_s(\\tau)$ is the probability of success used to evaluate an algorithm.\n",
    "\n",
    "From these definition, a failure probability that the optimal solution is not calculated in one annealing session is\n",
    "\n",
    "$$1-p_s(\\tau)$$\n",
    "\n",
    "We repeat $R$ times. Then the probability that the optimal solution is not calculated in all these $R$ times is \n",
    "\n",
    "$$\\{ 1-p_s(\\tau) \\}^R$$\n",
    "\n",
    "Therefore the probability of obtaining the optimal solution at leaset once out of $R$ times $p_R$ is found to be\n",
    "\n",
    "$$p_R = 1-\\{ 1-p_s(\\tau)\\}^R$$\n",
    "\n",
    "We solve this equation for $R$, and we get immediately\n",
    "\n",
    "$$R = \\frac{\\ln(1-p_R)}{\\ln\\{1-p_s(\\tau)\\}}$$\n",
    "\n",
    "To get the total computation time, we multiply the time per one annealing calculation by this formula.\n",
    "\n",
    "$${\\rm TTS}(\\tau, p_R) = \\tau R = \\tau \\frac{\\ln(1-p_R)}{\\ln\\{1-p_s(\\tau)\\}}$$\n",
    "\n",
    "This value means the total computation time for one annealing session, taking into account the computation time of $p_R$ and the number of iterations until the optimal solution is found with probability $p_s(p_R)$ when the algorithm with probability $p_s(\\tau)$ is used to find the optimal solution."
   ]
  },
  {
   "cell_type": "markdown",
   "metadata": {
    "colab_type": "text",
    "id": "UH5K7TpfBDP-"
   },
   "source": [
    "In an evaluation of the actual computation, $p_R$ is given as a constant. The most common value used in research and other studies is $p_R = 0.99$. Then calculate $p_s(\\tau)$ in various annealing time $\\tau$. We use them to compute ${\\rm TTS}(\\tau, p_R)$."
   ]
  },
  {
   "cell_type": "markdown",
   "metadata": {
    "colab_type": "text",
    "id": "Y_aOax-OBDP_"
   },
   "source": [
    "### Measuring TTS with OpenJij\n",
    "\n",
    "In this section, we measure TTS with OpenJij. In the following, We consider a one-dimensional antiferromagnetic Ising model. This is the physical model represented by the following Hamiltonian\n",
    "\n",
    "$$H(\\{\\sigma_i\\}) = \\sum_{i=0}^{N-1} J_{i, i+1}\\sigma_i \\sigma_{i+1} + \\sum_{i=0}^{N-1} h_i \\sigma_i$$\n",
    "\n",
    "where $J_{ij} \\in [0.1, 1.0]$、$h_0 = -1$ respectively, and other longitudinal fields consider zero.\n",
    "\n",
    "From antiferromagnetic condition, $J_{ij} > 0$, each spin faces a differenct direction and its energy is lowered. Therefore, optimal solution looks like $\\{\\sigma_i\\}$は$1, -1, 1, -1, \\cdots$. In addition, from $h_0=-1$ condition, we get the 0-th spin is $\\sigma_0 = 1$. Finally, the optimal solution is $1, -1, 1, -1, \\cdots$.\n",
    "\n",
    "In short, the problem of \"compute TTS of this problem\" means total computation time it takes to obtain $1, -1, 1, \\cdots$.\n",
    "\n",
    "Let's solve the Ising model above and see how TTS chanegs as the time per calculation is extended."
   ]
  },
  {
   "cell_type": "code",
   "execution_count": 1,
   "metadata": {},
   "outputs": [],
   "source": [
    "import random\n",
    "import numpy as np\n",
    "import matplotlib.pyplot as plt\n",
    "\n",
    "# import OpenJij\n",
    "import openjij as oj "
   ]
  },
  {
   "cell_type": "code",
   "execution_count": 2,
   "metadata": {},
   "outputs": [],
   "source": [
    "# make one-dimensional antiferromagnetic Ising model\n",
    "N = 30\n",
    "h = {0: -10}\n",
    "J = {(i, i+1): 1 for i in range(N-1)}"
   ]
  },
  {
   "cell_type": "markdown",
   "metadata": {
    "colab_type": "text",
    "id": "63j1bHf1BDQR"
   },
   "source": [
    "## Compute TTS\n",
    "\n",
    "The response class returned by `sample_ising` or `sample_qubo` of openjij has member variable `info`. This is a dictionary of information for each sampler. Most sampler have an `execution_time` key, which is the execution time of each algorithm (in $\\mu$s). \n",
    "\n",
    "In the case of SASampler, the computation time per one cycle of Simulated Annealing is stored."
   ]
  },
  {
   "cell_type": "code",
   "execution_count": 3,
   "metadata": {},
   "outputs": [],
   "source": [
    "# set optimal solution\n",
    "correct_state = [(-1)**i for i in range(N)]\n",
    "\n",
    "# define pR for TTS\n",
    "pR = 0.99\n",
    "\n",
    "# define num_sweeps_list, which is argument of Sampler \n",
    "# num_sweeps means the number of splits for decraesing parameters (temperature, transverse field) during annealing.\n",
    "# therefore, the more we increase this parameter, the more slowly it is equivalent to annealing.\n",
    "\n",
    "num_sweeps_list = list(range(10, 51, 10)) \n",
    "\n",
    "TTS_list = [] # define empty list for TTS of each computation\n",
    "tau_list = [] # define empty list for computation time\n",
    "\n",
    "# define empty list for success probability\n",
    "ps_list = []\n",
    "\n",
    "# set the number of times of annealing for computing probability\n",
    "num_reads = 100\n",
    "\n",
    "for num_sweeps in num_sweeps_list:\n",
    "    sampler = oj.SASampler(num_sweeps=num_sweeps, num_reads=num_reads)  \n",
    "    response = sampler.sample_ising(h, J)\n",
    "\n",
    "    # get execution time of each annealing\n",
    "    tau = response.info['execution_time']\n",
    "    \n",
    "    # get ps. \n",
    "    # state is ndarray, and we can compare this list with .all()\n",
    "    ps = sum([1 if (state == correct_state).all() else 0 for state in response.states])/num_reads\n",
    "    \n",
    "    \n",
    "    # When ps = 0, TTS diverges to infinity. We avoid this situation\n",
    "    if ps == 0.0:\n",
    "        continue\n",
    "    \n",
    "    # compute TTS\n",
    "    TTS_list.append(np.log(1-pR)/np.log(1-ps)*tau)\n",
    "    tau_list.append(tau)\n",
    "\n",
    "    # compute success probability\n",
    "    ps_list.append(ps)"
   ]
  },
  {
   "cell_type": "code",
   "execution_count": 4,
   "metadata": {},
   "outputs": [
    {
     "data": {
      "text/plain": [
       "Text(0, 0.5, 'Success probability')"
      ]
     },
     "execution_count": 4,
     "metadata": {},
     "output_type": "execute_result"
    },
    {
     "data": {
      "image/png": "[encoded data removed]",
      "text/plain": [
       "<Figure size 1080x216 with 2 Axes>"
      ]
     },
     "metadata": {
      "needs_background": "light"
     },
     "output_type": "display_data"
    }
   ],
   "source": [
    "# this cell is for visualization of evaluation\n",
    "\n",
    "# configure various settings\n",
    "fig, (axL, axR) = plt.subplots(ncols=2, figsize=(15,3))\n",
    "plt.subplots_adjust(wspace=0.4)\n",
    "fontsize = 10\n",
    "\n",
    "# plot TTS\n",
    "axL.plot(tau_list, TTS_list)\n",
    "axL.set_xlabel('annealing time', fontsize=fontsize)\n",
    "axL.set_ylabel('TTS', fontsize=fontsize)\n",
    "\n",
    "# plot succss probability ps\n",
    "axR.plot(tau_list, ps_list)\n",
    "axR.set_xlabel('annealing time', fontsize=fontsize)\n",
    "axR.set_ylabel('Success probability', fontsize=fontsize)"
   ]
  },
  {
   "cell_type": "markdown",
   "metadata": {
    "colab_type": "text",
    "id": "ekqnlWy_BDQY"
   },
   "source": [
    "We showed you how to compute both TTS and success probability. Both of the two figures above, the horizontal axis is the coumputation time for one annealing session.\n",
    "\n",
    "As the annealing time increases, TTS tends to increase as well. From this figure, we can use this value as an indicator of when we want to stop annealing once we have compensated for the required success probability.\n",
    "\n",
    "OpenJij has TTS, Residual Energy and Success probability by default the benchmark function `openjij.solver_benchmark`.\n",
    "\n",
    "\n",
    "## solver_benchmark function\n",
    "\n",
    "solver_benchmark function compute TTS, residual energy and success probability, and return these values.\n",
    "\n",
    "The arguments are listed below.\n",
    "\n",
    "- solver: function  \n",
    "    This function returns `Response` class. It needs arguments of `time` and `num_reads`\n",
    "    `time` is parameter of computational time. In the case of `SASampler`, it corresponds to `num_sweeps`.\n",
    "    `num_reads` specifies the number of times to sample to calculate TTS and residual energy.\n",
    "    Also, the return value of the function `Response.info` contains the argument `time_name` as keyword.\n",
    "    The value associated with `time_name` should be calculated time per cycle.\n",
    "- time_list: list  \n",
    "    a list of `time` argument of solver.\n",
    "- solutions: list(list: state)  \n",
    "    A list of states tha are the ground staet (optimal solution).\n",
    "    In case of degenerate (multiple identical states that are indistinguishable from each other), \n",
    "    multiple state can be inserted, as in [state1, state2].\n",
    "- args: dict\n",
    "    Attach to the solver as an option, if required. The default is `args = {}`.\n",
    "- p_r: 0 < float <= 1  \n",
    "    This value is needed to compute TTS. It is equivalent to p_R.\n",
    "- ref_energy: float  \n",
    "    This means reference energy. Used in conjunction with measure_with_energy.\n",
    "    The default is `ref_energy = 0`.\n",
    "- measure_with_energy: bool  \n",
    "    False: When the spin state matches the ground state, it counts as a success.\n",
    "    True: If the energy is less than or equal to ref_energy, it counts as success.\n",
    "    It is used when ground state is not known. The default is False.\n",
    "- time_name: str  \n",
    "    Specifies the key associated with the execution time of `Response.info`.\n",
    "    The default is `'execution_time'`.\n",
    "    \n",
    "The return value is the result of the benchmark calculation and is stored in a dictionary format as shown below.\n",
    "\n",
    "- time: A list of execution time.\n",
    "- success_prob: A list of success probability.\n",
    "- tts: A list of TTS.\n",
    "- residual_energy: A list of residual energy.\n",
    "- info: (dict) A parameter information of benchmark function.\n",
    "\n",
    "\n",
    "Let us use this benchmark function to compute TTS and so on."
   ]
  },
  {
   "cell_type": "code",
   "execution_count": 5,
   "metadata": {
    "colab": {},
    "colab_type": "code",
    "id": "UsT_OrHpBDQZ",
    "scrolled": true
   },
   "outputs": [],
   "source": [
    "# define optimal solution\n",
    "correct_state = [(-1)**i for i in range(N)]\n",
    "\n",
    "# set num_sweeps & num_reads(the number of repetition)\n",
    "num_sweeps_list = list(range(10, 51, 10))  # [10, 20, 30, 40, 50]\n",
    "num_reads = 100\n",
    "\n",
    "# compute TTS, residual energy, success probability with benchmark function\n",
    "result = oj.solver_benchmark(\n",
    "                      solver=lambda time, **args: oj.SASampler(num_sweeps=time, num_reads=num_reads).sample_ising(h,J), \n",
    "                      time_list=num_sweeps_list, solutions=[correct_state], p_r=0.99\n",
    "            )"
   ]
  },
  {
   "cell_type": "code",
   "execution_count": 6,
   "metadata": {
    "colab": {
     "base_uri": "https://localhost:8080/",
     "height": 245
    },
    "colab_type": "code",
    "id": "cZ1cs-g1BDQc",
    "outputId": "faf086d7-83b4-48e8-f75a-d2eefbac563d"
   },
   "outputs": [
    {
     "data": {
      "text/plain": [
       "Text(0, 0.5, 'Success probability')"
      ]
     },
     "execution_count": 6,
     "metadata": {},
     "output_type": "execute_result"
    },
    {
     "data": {
      "image/png": "[encoded data removed]",
      "text/plain": [
       "<Figure size 1080x216 with 3 Axes>"
      ]
     },
     "metadata": {
      "needs_background": "light"
     },
     "output_type": "display_data"
    }
   ],
   "source": [
    "# configure the settings of drawing\n",
    "fig, (axL,axC,axR) = plt.subplots(ncols=3, figsize=(15,3))\n",
    "plt.subplots_adjust(wspace=0.4)\n",
    "fontsize = 10\n",
    "\n",
    "# plot TTS\n",
    "axL.plot(result['time'], result['tts'])\n",
    "axL.set_xlabel('annealing time', fontsize=fontsize)\n",
    "axL.set_ylabel('TTS', fontsize=fontsize)\n",
    "\n",
    "# plot residual energy\n",
    "axC.plot(result['time'], result['residual_energy'])\n",
    "axC.set_xlabel('annealing time', fontsize=fontsize)\n",
    "axC.set_ylabel('Residual energy', fontsize=fontsize)\n",
    "\n",
    "# plot of probability of appearance of optimal solution\n",
    "axR.plot(result['time'], result['success_prob'])\n",
    "axR.set_xlabel('annealing time', fontsize=fontsize)\n",
    "axR.set_ylabel('Success probability', fontsize=fontsize)"
   ]
  },
  {
   "cell_type": "markdown",
   "metadata": {
    "colab_type": "text",
    "id": "F1MP6xatBDQf"
   },
   "source": [
    "We can easily benchmark with OpenJij.\n",
    "\n",
    "Since the same antiferromagnetic 1D Ising model is used to solver the same problem as before, we can see that TTS and success probability are monotonically increasing, as in the previous example (because of heuristic solution, therefore exact calculation result changes every time).\n",
    "\n",
    "The residual energy is expected to converge as some value if the annealing time increase.\n",
    "\n",
    "We can set upt a free custom function if the function in `solver` returns the `Response` class and computation time is stored in `.info['execution_time']`.\n",
    "\n",
    "The following is an example of creating and executing an appropriate user function. We can create a function that randomly returns one state from the three spin states of [1, 1, 1, 1,...], [1, -1, 1, -1,...] and [-1, 1, -1, 1,...], and benchmark the annealing algorithm. An Optimal solution is [1, -1, 1, -1,...]."
   ]
  },
  {
   "cell_type": "code",
   "execution_count": 7,
   "metadata": {
    "colab": {},
    "colab_type": "code",
    "id": "QDHCChaRBDQg"
   },
   "outputs": [],
   "source": [
    "import time \n",
    "\n",
    "def anti_ferro_solver(time_param, num_reads, h, J):\n",
    "#    \"\"\"\n",
    "#    set function to choose randomly from three states\n",
    "#    [1, 1, 1,...], [1,-1,1,...] & [-1,1,-1,...]\n",
    "#    \"\"\"\n",
    "    \n",
    "    # set subscript h & J\n",
    "    indices = set(h.keys())\n",
    "    indices = list(indices | set([key for keys in J.keys() for key in keys]))\n",
    "    \n",
    "    # make state of [1, 1, 1,...]\n",
    "    ones_state = list(np.ones(len(indices), dtype=int))\n",
    "    \n",
    "    # make state of [-1, 1, -1,...]\n",
    "    minus_plus_state = np.ones(len(indices), dtype=int)\n",
    "    minus_plus_state[::2] *= -1\n",
    "    \n",
    "    # make state of [1, -1, 1,...]\n",
    "    plus_minus_state = -1 * minus_plus_state\n",
    "    \n",
    "    # start measuring the execution time.\n",
    "    start = time.time()\n",
    "    _states = [ones_state, list(minus_plus_state), list(plus_minus_state)]\n",
    "    \n",
    "    # choose state randomly from three states\n",
    "    state_record = [_states[np.random.randint(3)] for _ in range(num_reads)]\n",
    "    # convert state_record to ndarray\n",
    "    state_record = np.array(state_record)\n",
    "    \n",
    "    # Add the computation time at random\n",
    "    exec_time = (time.time()-start) * 10**6 * time_param\n",
    "    # compute energy at random\n",
    "    energies = [sum(state) for state in state_record]\n",
    "    \n",
    "    # make tuple (state, subscript)\n",
    "    samples_like = (state_record, indices)\n",
    "        \n",
    "    # we refer to from_samples (dimod) and store the state and energy in the Response class.\n",
    "    response = oj.Response.from_samples(samples_like=samples_like, energy=energies, vartype='SPIN')\n",
    "    # substitute computation time to response.info 'execution_time' key\n",
    "    response.info['execution_time'] = exec_time\n",
    "    \n",
    "    return response"
   ]
  },
  {
   "cell_type": "markdown",
   "metadata": {},
   "source": [
    "OpenJij's response is modeled after dimod's SampleSet.\n",
    "Therefore, the advantage of being familiar with OpenJij is that it makes the transition to using dimod and D-Wave execution easier.  \n",
    "Fom more details of dimod SampleSet, see also link below  \n",
    "[Samples](https://docs.ocean.dwavesys.com/projects/dimod/en/latest/reference/sampleset.html)"
   ]
  },
  {
   "cell_type": "code",
   "execution_count": 8,
   "metadata": {
    "colab": {},
    "colab_type": "code",
    "id": "lO8DpCkyBDQk"
   },
   "outputs": [],
   "source": [
    "# set optimal solution [1, -1, 1,...]\n",
    "correct_state = [(-1)**i for i in range(N)]\n",
    "\n",
    "# set num_sweeps & num_reads\n",
    "num_sweeps_list = list(range(10, 51, 10))\n",
    "num_reads = 2000\n",
    "\n",
    "# compute TTS, residual energy & success probability with benchmark function\n",
    "result = oj.solver_benchmark(\n",
    "                      solver= lambda time_param, **args: anti_ferro_solver(time_param, num_reads, h, J), \n",
    "                      time_list=num_sweeps_list, solutions=[correct_state], p_r=0.99\n",
    "              )"
   ]
  },
  {
   "cell_type": "code",
   "execution_count": 9,
   "metadata": {
    "colab": {
     "base_uri": "https://localhost:8080/",
     "height": 245
    },
    "colab_type": "code",
    "id": "v8feULpDBDQo",
    "outputId": "6a4eb208-1795-4aec-ed26-bde92d9c928c",
    "scrolled": true
   },
   "outputs": [
    {
     "data": {
      "text/plain": [
       "Text(0, 0.5, 'Success probability')"
      ]
     },
     "execution_count": 9,
     "metadata": {},
     "output_type": "execute_result"
    },
    {
     "data": {
      "image/png": "[encoded data removed]",
      "text/plain": [
       "<Figure size 1080x216 with 3 Axes>"
      ]
     },
     "metadata": {
      "needs_background": "light"
     },
     "output_type": "display_data"
    }
   ],
   "source": [
    "fig, (axL,axC,axR) = plt.subplots(ncols=3, figsize=(15,3))\n",
    "plt.subplots_adjust(wspace=0.4)\n",
    "\n",
    "fontsize = 10\n",
    "axL.plot(result['time'], result['tts'])\n",
    "axL.set_xlabel('annealing time', fontsize=fontsize)\n",
    "axL.set_ylabel('TTS', fontsize=fontsize)\n",
    "\n",
    "axC.plot(result['time'], result['residual_energy'])\n",
    "axC.set_xlabel('annealing time', fontsize=fontsize)\n",
    "axC.set_ylabel('Residual energy', fontsize=fontsize)\n",
    "\n",
    "axR.plot(result['time'], result['success_prob'])\n",
    "axR.set_xlabel('annealing time', fontsize=fontsize)\n",
    "axR.set_ylabel('Success probability', fontsize=fontsize)"
   ]
  },
  {
   "cell_type": "markdown",
   "metadata": {
    "colab_type": "text",
    "id": "c3T8GiiSBDQr"
   },
   "source": [
    "We randomly choose the optimal state for each one of the three states, so the probability of success shold be about 1/3. The above figure of success probability is also about 1/3 value.\n",
    "\n",
    "With these solver functions in place, it is possible to compute TTS, residual energy and success probability, not just for OpenJij solvers."
   ]
  },
  {
   "cell_type": "markdown",
   "metadata": {},
   "source": [
    "Let us show you the ability to compute standard errors in the next page."
   ]
  }
 ],
 "metadata": {
  "colab": {
   "collapsed_sections": [],
   "include_colab_link": true,
   "name": "2_Evaluation_ver008.ipynb",
   "provenance": []
  },
  "kernelspec": {
   "display_name": "Python 3",
   "language": "python",
   "name": "python3"
  },
  "language_info": {
   "codemirror_mode": {
    "name": "ipython",
    "version": 3
   },
   "file_extension": ".py",
   "mimetype": "text/x-python",
   "name": "python",
   "nbconvert_exporter": "python",
   "pygments_lexer": "ipython3",
   "version": "3.9.3"
  }
 },
 "nbformat": 4,
 "nbformat_minor": 1
}
